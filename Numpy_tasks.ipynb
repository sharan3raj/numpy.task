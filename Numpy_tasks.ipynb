{
  "cells": [
    {
      "cell_type": "markdown",
      "metadata": {
        "id": "WLsEuGl9zXrI"
      },
      "source": [
        "# Numpy\n",
        "\n"
      ]
    },
    {
      "cell_type": "markdown",
      "metadata": {
        "id": "82YDUKf6zXrP"
      },
      "source": [
        "#### 1. Import the numpy package under the name `np` (★☆☆) \n",
        "(**hint**: import … as …)"
      ]
    },
    {
      "cell_type": "code",
      "execution_count": 1,
      "metadata": {
        "collapsed": true,
        "id": "AdDauvAmzXrQ"
      },
      "outputs": [],
      "source": [
        "import numpy as np"
      ]
    },
    {
      "cell_type": "markdown",
      "metadata": {
        "id": "_SjzGpRZzXrS"
      },
      "source": [
        "#### 2. Print the numpy version and the configuration (★☆☆) \n",
        "(**hint**: np.\\_\\_version\\_\\_, np.show\\_config)"
      ]
    },
    {
      "cell_type": "code",
      "execution_count": 2,
      "metadata": {
        "colab": {
          "base_uri": "https://localhost:8080/"
        },
        "id": "h1SUxQNczXrT",
        "outputId": "08482820-e06a-470d-c1eb-fa550f5ba5ac"
      },
      "outputs": [
        {
          "output_type": "stream",
          "name": "stdout",
          "text": [
            "1.21.6\n"
          ]
        }
      ],
      "source": [
        "print(np.__version__)"
      ]
    },
    {
      "cell_type": "markdown",
      "metadata": {
        "id": "RgpnFOLDzXrT"
      },
      "source": [
        "#### 3. Create a null vector of size 10 (★☆☆) \n",
        "(**hint**: np.zeros)"
      ]
    },
    {
      "cell_type": "code",
      "execution_count": 3,
      "metadata": {
        "colab": {
          "base_uri": "https://localhost:8080/"
        },
        "id": "WCvBc_NlzXrU",
        "outputId": "14e764dd-eec4-4f95-c112-40f8fcf97176"
      },
      "outputs": [
        {
          "output_type": "stream",
          "name": "stdout",
          "text": [
            "[0. 0. 0. 0. 0. 0. 0. 0. 0. 0.]\n"
          ]
        }
      ],
      "source": [
        "null_vector=np.zeros(10)\n",
        "print(null_vector)"
      ]
    },
    {
      "cell_type": "markdown",
      "metadata": {
        "id": "HqW40S18zXrV"
      },
      "source": [
        "#### 4.  How to find the memory size of any array (★☆☆) \n",
        "(**hint**: size, itemsize)"
      ]
    },
    {
      "cell_type": "code",
      "execution_count": 4,
      "metadata": {
        "colab": {
          "base_uri": "https://localhost:8080/"
        },
        "id": "BOEWW5KrzXrX",
        "outputId": "6dd3d1f6-febc-4018-ce58-c75ae9c7cfbe"
      },
      "outputs": [
        {
          "output_type": "stream",
          "name": "stdout",
          "text": [
            "24\n"
          ]
        }
      ],
      "source": [
        "x=np.array([100,20,34])\n",
        "print(x.size*x.itemsize)"
      ]
    },
    {
      "cell_type": "markdown",
      "metadata": {
        "id": "zn3zNmykzXrX"
      },
      "source": [
        "#### 5.  How to get the documentation of the numpy add function from the command line? (★☆☆) \n",
        "(**hint**: np.info)"
      ]
    },
    {
      "cell_type": "code",
      "execution_count": 5,
      "metadata": {
        "collapsed": true,
        "colab": {
          "base_uri": "https://localhost:8080/"
        },
        "id": "2llrC_eszXrZ",
        "outputId": "b5be67b6-96ab-4617-b64e-78c44b680588"
      },
      "outputs": [
        {
          "output_type": "stream",
          "name": "stdout",
          "text": [
            "add(x1, x2, /, out=None, *, where=True, casting='same_kind', order='K', dtype=None, subok=True[, signature, extobj])\n",
            "\n",
            "Add arguments element-wise.\n",
            "\n",
            "Parameters\n",
            "----------\n",
            "x1, x2 : array_like\n",
            "    The arrays to be added.\n",
            "    If ``x1.shape != x2.shape``, they must be broadcastable to a common\n",
            "    shape (which becomes the shape of the output).\n",
            "out : ndarray, None, or tuple of ndarray and None, optional\n",
            "    A location into which the result is stored. If provided, it must have\n",
            "    a shape that the inputs broadcast to. If not provided or None,\n",
            "    a freshly-allocated array is returned. A tuple (possible only as a\n",
            "    keyword argument) must have length equal to the number of outputs.\n",
            "where : array_like, optional\n",
            "    This condition is broadcast over the input. At locations where the\n",
            "    condition is True, the `out` array will be set to the ufunc result.\n",
            "    Elsewhere, the `out` array will retain its original value.\n",
            "    Note that if an uninitialized `out` array is created via the default\n",
            "    ``out=None``, locations within it where the condition is False will\n",
            "    remain uninitialized.\n",
            "**kwargs\n",
            "    For other keyword-only arguments, see the\n",
            "    :ref:`ufunc docs <ufuncs.kwargs>`.\n",
            "\n",
            "Returns\n",
            "-------\n",
            "add : ndarray or scalar\n",
            "    The sum of `x1` and `x2`, element-wise.\n",
            "    This is a scalar if both `x1` and `x2` are scalars.\n",
            "\n",
            "Notes\n",
            "-----\n",
            "Equivalent to `x1` + `x2` in terms of array broadcasting.\n",
            "\n",
            "Examples\n",
            "--------\n",
            ">>> np.add(1.0, 4.0)\n",
            "5.0\n",
            ">>> x1 = np.arange(9.0).reshape((3, 3))\n",
            ">>> x2 = np.arange(3.0)\n",
            ">>> np.add(x1, x2)\n",
            "array([[  0.,   2.,   4.],\n",
            "       [  3.,   5.,   7.],\n",
            "       [  6.,   8.,  10.]])\n",
            "\n",
            "The ``+`` operator can be used as a shorthand for ``np.add`` on ndarrays.\n",
            "\n",
            ">>> x1 = np.arange(9.0).reshape((3, 3))\n",
            ">>> x2 = np.arange(3.0)\n",
            ">>> x1 + x2\n",
            "array([[ 0.,  2.,  4.],\n",
            "       [ 3.,  5.,  7.],\n",
            "       [ 6.,  8., 10.]])\n",
            "None\n"
          ]
        }
      ],
      "source": [
        "print(np.info(np.add))"
      ]
    },
    {
      "cell_type": "markdown",
      "metadata": {
        "id": "NzTpFAsnzXrZ"
      },
      "source": [
        "#### 6.  Create a null vector of size 10 but the fifth value which is 1 (★☆☆) \n",
        "(**hint**: array\\[4\\])"
      ]
    },
    {
      "cell_type": "code",
      "execution_count": 6,
      "metadata": {
        "id": "DahMiNc1zXra"
      },
      "outputs": [],
      "source": [
        "x=np.zeros(10)\n",
        "x[4]=1"
      ]
    },
    {
      "cell_type": "markdown",
      "metadata": {
        "id": "do7M04IRzXrb"
      },
      "source": [
        "#### 7.  Create a vector with values ranging from 10 to 49 (★☆☆) \n",
        "(**hint**: np.arange)"
      ]
    },
    {
      "cell_type": "code",
      "execution_count": 7,
      "metadata": {
        "colab": {
          "base_uri": "https://localhost:8080/"
        },
        "id": "esy69TNJzXrc",
        "outputId": "bfaae83d-f48e-4891-cc8b-a704ae4fbc80"
      },
      "outputs": [
        {
          "output_type": "stream",
          "name": "stdout",
          "text": [
            "[10 11 12 13 14 15 16 17 18 19 20 21 22 23 24 25 26 27 28 29 30 31 32 33\n",
            " 34 35 36 37 38 39 40 41 42 43 44 45 46 47 48]\n"
          ]
        }
      ],
      "source": [
        "print(np.arange(10,49))"
      ]
    },
    {
      "cell_type": "markdown",
      "metadata": {
        "id": "8GSyQ1g9zXrc"
      },
      "source": [
        "#### 8.  Reverse a vector (first element becomes last) (★☆☆) \n",
        "(**hint**: array\\[::-1\\])"
      ]
    },
    {
      "cell_type": "code",
      "execution_count": 8,
      "metadata": {
        "colab": {
          "base_uri": "https://localhost:8080/"
        },
        "id": "wUut8C8czXrd",
        "outputId": "8311e8ef-683c-4df4-cb9b-61bb6044ed71"
      },
      "outputs": [
        {
          "output_type": "stream",
          "name": "stdout",
          "text": [
            "[48 47 46 45 44 43 42 41 40 39 38 37 36 35 34 33 32 31 30 29 28 27 26 25\n",
            " 24 23 22 21 20 19 18 17 16 15 14 13 12 11 10]\n"
          ]
        }
      ],
      "source": [
        "x=np.arange(10,49)\n",
        "print(x[::-1])"
      ]
    },
    {
      "cell_type": "markdown",
      "metadata": {
        "id": "8C38_NYZzXrd"
      },
      "source": [
        "#### 9.  Create a 3x3 matrix with values ranging from 0 to 8 (★☆☆) \n",
        "(**hint**: reshape)"
      ]
    },
    {
      "cell_type": "code",
      "execution_count": 9,
      "metadata": {
        "colab": {
          "base_uri": "https://localhost:8080/"
        },
        "id": "oytnLhpLzXre",
        "outputId": "0e240a89-105f-4555-f582-ae42e6df600a"
      },
      "outputs": [
        {
          "output_type": "execute_result",
          "data": {
            "text/plain": [
              "array([[0, 1, 2],\n",
              "       [3, 4, 5],\n",
              "       [6, 7, 8]])"
            ]
          },
          "metadata": {},
          "execution_count": 9
        }
      ],
      "source": [
        "x=np.arange(9)\n",
        "x.reshape(3,3)"
      ]
    },
    {
      "cell_type": "markdown",
      "metadata": {
        "id": "dYDHBq8FzXre"
      },
      "source": [
        "#### 10. Find indices of non-zero elements from \\[1,2,0,0,4,0\\] (★☆☆) \n",
        "(**hint**: np.nonzero)"
      ]
    },
    {
      "cell_type": "code",
      "execution_count": 10,
      "metadata": {
        "colab": {
          "base_uri": "https://localhost:8080/"
        },
        "id": "DvpsPJWvzXrf",
        "outputId": "0b647a4b-04ce-4c3d-faf4-ce680b8371c6"
      },
      "outputs": [
        {
          "output_type": "execute_result",
          "data": {
            "text/plain": [
              "(array([0, 1, 4]),)"
            ]
          },
          "metadata": {},
          "execution_count": 10
        }
      ],
      "source": [
        "x=np.array([1,2,0,0,4,0])\n",
        "np.nonzero(x)"
      ]
    },
    {
      "cell_type": "markdown",
      "metadata": {
        "id": "NqjyaViHzXrf"
      },
      "source": [
        "#### 11. Create a 3x3 identity matrix (★☆☆) \n",
        "(**hint**: np.eye)"
      ]
    },
    {
      "cell_type": "code",
      "execution_count": 11,
      "metadata": {
        "colab": {
          "base_uri": "https://localhost:8080/"
        },
        "id": "aYSqLZYNzXrg",
        "outputId": "ce9de1fb-8b16-4563-aea7-c664d75fbc11"
      },
      "outputs": [
        {
          "output_type": "execute_result",
          "data": {
            "text/plain": [
              "array([[1., 0., 0.],\n",
              "       [0., 1., 0.],\n",
              "       [0., 0., 1.]])"
            ]
          },
          "metadata": {},
          "execution_count": 11
        }
      ],
      "source": [
        "x=np.eye(3)\n",
        "x"
      ]
    },
    {
      "cell_type": "markdown",
      "metadata": {
        "id": "y5oGLUUlzXrg"
      },
      "source": [
        "#### 12. Create a 3x3x3 array with random values (★☆☆) \n",
        "(**hint**: np.random.random)"
      ]
    },
    {
      "cell_type": "code",
      "execution_count": 12,
      "metadata": {
        "collapsed": true,
        "colab": {
          "base_uri": "https://localhost:8080/"
        },
        "id": "eY9VG08-zXrh",
        "outputId": "dcdc32b9-a58a-4efb-edc4-98f032770a0f"
      },
      "outputs": [
        {
          "output_type": "execute_result",
          "data": {
            "text/plain": [
              "array([[[0.12158339, 0.98834352, 0.31593522],\n",
              "        [0.86243559, 0.41267655, 0.71231392],\n",
              "        [0.93725794, 0.80751527, 0.3709908 ]],\n",
              "\n",
              "       [[0.18516603, 0.15659142, 0.3222415 ],\n",
              "        [0.60560536, 0.93230066, 0.14933619],\n",
              "        [0.03046207, 0.65499161, 0.80809336]],\n",
              "\n",
              "       [[0.99748471, 0.90395427, 0.02892956],\n",
              "        [0.29898028, 0.17800562, 0.75683429],\n",
              "        [0.69227755, 0.07460166, 0.59909119]]])"
            ]
          },
          "metadata": {},
          "execution_count": 12
        }
      ],
      "source": [
        "x=np.random.random((3,3,3))\n",
        "x"
      ]
    },
    {
      "cell_type": "markdown",
      "metadata": {
        "id": "kz6cn3mqzXrh"
      },
      "source": [
        "#### 13. Create a 10x10 array with random values and find the minimum and maximum values (★☆☆) \n",
        "(**hint**: min, max)"
      ]
    },
    {
      "cell_type": "code",
      "execution_count": 13,
      "metadata": {
        "colab": {
          "base_uri": "https://localhost:8080/"
        },
        "id": "TQipugCvzXrh",
        "outputId": "fe1191f5-e254-45a4-9104-acaac9ba39db"
      },
      "outputs": [
        {
          "output_type": "stream",
          "name": "stdout",
          "text": [
            "0.0005450114541990514 0.9897754268122838\n"
          ]
        }
      ],
      "source": [
        "x=np.random.random((10,10))\n",
        "x\n",
        "minx=x.min()\n",
        "maxx=x.max()\n",
        "print(minx,maxx)"
      ]
    },
    {
      "cell_type": "markdown",
      "metadata": {
        "id": "1a-eTmzezXrh"
      },
      "source": [
        "#### 14. Create a random vector of size 30 and find the mean value (★☆☆) \n",
        "(**hint**: mean)"
      ]
    },
    {
      "cell_type": "code",
      "execution_count": 14,
      "metadata": {
        "colab": {
          "base_uri": "https://localhost:8080/"
        },
        "id": "0dB40M8kzXri",
        "outputId": "d09cc5f9-5532-43eb-c9e8-e7f05e1fd61c"
      },
      "outputs": [
        {
          "output_type": "stream",
          "name": "stdout",
          "text": [
            "0.5699607699759892\n"
          ]
        }
      ],
      "source": [
        "x=np.random.random(30)\n",
        "print(x.mean())"
      ]
    },
    {
      "cell_type": "markdown",
      "metadata": {
        "id": "MfLnClIhzXri"
      },
      "source": [
        "#### 15. Create a 2d array with 1 on the border and 0 inside (★☆☆) \n",
        "(**hint**: array\\[1:-1, 1:-1\\])"
      ]
    },
    {
      "cell_type": "code",
      "execution_count": 15,
      "metadata": {
        "colab": {
          "base_uri": "https://localhost:8080/"
        },
        "id": "7GMtnANizXri",
        "outputId": "314d70ed-d564-4696-f833-cd7112a130a2"
      },
      "outputs": [
        {
          "output_type": "stream",
          "name": "stdout",
          "text": [
            "[[1. 1. 1. 1. 1. 1. 1. 1. 1. 1.]\n",
            " [1. 0. 0. 0. 0. 0. 0. 0. 0. 1.]\n",
            " [1. 0. 0. 0. 0. 0. 0. 0. 0. 1.]\n",
            " [1. 0. 0. 0. 0. 0. 0. 0. 0. 1.]\n",
            " [1. 0. 0. 0. 0. 0. 0. 0. 0. 1.]\n",
            " [1. 0. 0. 0. 0. 0. 0. 0. 0. 1.]\n",
            " [1. 0. 0. 0. 0. 0. 0. 0. 0. 1.]\n",
            " [1. 0. 0. 0. 0. 0. 0. 0. 0. 1.]\n",
            " [1. 0. 0. 0. 0. 0. 0. 0. 0. 1.]\n",
            " [1. 1. 1. 1. 1. 1. 1. 1. 1. 1.]]\n"
          ]
        }
      ],
      "source": [
        "x=np.ones((10,10))\n",
        "x[1:-1,1:-1]=0\n",
        "print(x)"
      ]
    },
    {
      "cell_type": "markdown",
      "metadata": {
        "id": "UecPxS-RzXrj"
      },
      "source": [
        "#### 16. How to add a border (filled with 0's) around an existing array? (★☆☆) \n",
        "(**hint**: np.pad)"
      ]
    },
    {
      "cell_type": "code",
      "execution_count": 16,
      "metadata": {
        "colab": {
          "base_uri": "https://localhost:8080/"
        },
        "id": "u1HAoE21zXrj",
        "outputId": "e8e5b196-1cc9-4481-9327-d0df7fb21003"
      },
      "outputs": [
        {
          "output_type": "stream",
          "name": "stdout",
          "text": [
            "[[0. 0. 0. 0. 0. 0. 0.]\n",
            " [0. 1. 1. 1. 1. 1. 0.]\n",
            " [0. 1. 1. 1. 1. 1. 0.]\n",
            " [0. 1. 1. 1. 1. 1. 0.]\n",
            " [0. 1. 1. 1. 1. 1. 0.]\n",
            " [0. 1. 1. 1. 1. 1. 0.]\n",
            " [0. 0. 0. 0. 0. 0. 0.]]\n"
          ]
        }
      ],
      "source": [
        "x=np.ones((5,5))\n",
        "x=np.pad(x,pad_width=1,mode='constant',constant_values=0)\n",
        "print(x)"
      ]
    },
    {
      "cell_type": "markdown",
      "metadata": {
        "id": "sFXekoomzXrj"
      },
      "source": [
        "#### 17. What is the result of the following expression? (★☆☆) \n",
        "(**hint**: NaN = not a number, inf = infinity)"
      ]
    },
    {
      "cell_type": "markdown",
      "metadata": {
        "id": "7HlIPD_tzXrk"
      },
      "source": [
        "```python\n",
        "0 * np.nan\n",
        "np.nan == np.nan\n",
        "np.inf > np.nan\n",
        "np.nan - np.nan\n",
        "0.3 == 3 * 0.1\n",
        "```"
      ]
    },
    {
      "cell_type": "code",
      "execution_count": null,
      "metadata": {
        "id": "HuozWN0_zXrl"
      },
      "outputs": [],
      "source": []
    },
    {
      "cell_type": "markdown",
      "metadata": {
        "id": "vzKFjJjrzXrl"
      },
      "source": [
        "#### 18. Create a 5x5 matrix with values 1,2,3,4 just below the diagonal (★☆☆) \n",
        "(**hint**: np.diag)"
      ]
    },
    {
      "cell_type": "code",
      "execution_count": 17,
      "metadata": {
        "colab": {
          "base_uri": "https://localhost:8080/"
        },
        "id": "WfI5NUBrzXrm",
        "outputId": "7d7763b5-f880-45bb-fb8f-9ad5a9d4688f"
      },
      "outputs": [
        {
          "output_type": "stream",
          "name": "stdout",
          "text": [
            "[[0 0 0 0 0]\n",
            " [1 0 0 0 0]\n",
            " [0 2 0 0 0]\n",
            " [0 0 3 0 0]\n",
            " [0 0 0 4 0]]\n"
          ]
        }
      ],
      "source": [
        "x=np.diag(1+np.arange(4),k=-1)\n",
        "print(x)"
      ]
    },
    {
      "cell_type": "markdown",
      "metadata": {
        "id": "Hs5YXpDYzXrm"
      },
      "source": [
        "#### 19. Create a 8x8 matrix and fill it with a checkerboard pattern (★☆☆) \n",
        "(**hint**: array\\[::2\\])"
      ]
    },
    {
      "cell_type": "code",
      "execution_count": 18,
      "metadata": {
        "colab": {
          "base_uri": "https://localhost:8080/"
        },
        "id": "5wWY9J0GzXrm",
        "outputId": "26330d6b-8ddb-4984-fb7b-be5cc5833de5"
      },
      "outputs": [
        {
          "output_type": "stream",
          "name": "stdout",
          "text": [
            "[[0 1 0 1 0 1 0 1]\n",
            " [1 0 1 0 1 0 1 0]\n",
            " [0 1 0 1 0 1 0 1]\n",
            " [1 0 1 0 1 0 1 0]\n",
            " [0 1 0 1 0 1 0 1]\n",
            " [1 0 1 0 1 0 1 0]\n",
            " [0 1 0 1 0 1 0 1]\n",
            " [1 0 1 0 1 0 1 0]]\n"
          ]
        }
      ],
      "source": [
        "x=np.zeros((8,8),dtype=int)\n",
        "x[1::2,::2]=1\n",
        "x[::2,1::2]=1\n",
        "print(x)"
      ]
    },
    {
      "cell_type": "markdown",
      "metadata": {
        "id": "pLh1s39YzXrn"
      },
      "source": [
        "#### 20. Consider a (6,7,8) shape array, what is the index (x,y,z) of the 100th element? \n",
        "(**hint**: np.unravel_index)"
      ]
    },
    {
      "cell_type": "code",
      "execution_count": 19,
      "metadata": {
        "colab": {
          "base_uri": "https://localhost:8080/"
        },
        "id": "k6FsgjfnzXrn",
        "outputId": "4f076c44-a24a-4e81-9381-bb3d8f3c99a3"
      },
      "outputs": [
        {
          "output_type": "stream",
          "name": "stdout",
          "text": [
            "(1, 5, 4)\n"
          ]
        }
      ],
      "source": [
        "print(np.unravel_index(100,(6,7,8)))"
      ]
    },
    {
      "cell_type": "markdown",
      "metadata": {
        "id": "W9sxc6EazXrn"
      },
      "source": [
        "#### 21. Create a checkerboard 8x8 matrix using the tile function (★☆☆) \n",
        "(**hint**: np.tile)"
      ]
    },
    {
      "cell_type": "code",
      "execution_count": 20,
      "metadata": {
        "colab": {
          "base_uri": "https://localhost:8080/"
        },
        "id": "aUiinKQTzXro",
        "outputId": "f47c29f1-96ab-4b4b-caa9-967fd1d39a1b"
      },
      "outputs": [
        {
          "output_type": "stream",
          "name": "stdout",
          "text": [
            "[[0 1 0 1 0 1 0 1]\n",
            " [1 0 1 0 1 0 1 0]\n",
            " [0 1 0 1 0 1 0 1]\n",
            " [1 0 1 0 1 0 1 0]\n",
            " [0 1 0 1 0 1 0 1]\n",
            " [1 0 1 0 1 0 1 0]\n",
            " [0 1 0 1 0 1 0 1]\n",
            " [1 0 1 0 1 0 1 0]]\n"
          ]
        }
      ],
      "source": [
        "x=np.tile(np.array([[0,1],[1,0]]),(4,4))\n",
        "print(x)"
      ]
    },
    {
      "cell_type": "markdown",
      "metadata": {
        "id": "kMdCy_Z9zXro"
      },
      "source": [
        "#### 22. Normalize a 5x5 random matrix (★☆☆) \n",
        "(**hint**: (x - min) / (max - min))"
      ]
    },
    {
      "cell_type": "code",
      "execution_count": 21,
      "metadata": {
        "colab": {
          "base_uri": "https://localhost:8080/"
        },
        "id": "xn0euI5xzXrp",
        "outputId": "863afa5c-f084-4ecf-88a9-df79f77cef57"
      },
      "outputs": [
        {
          "output_type": "stream",
          "name": "stdout",
          "text": [
            "[[0.76826617 0.80869532 0.78767722]\n",
            " [0.88989651 0.22544436 0.        ]\n",
            " [0.89919284 1.         0.06475693]]\n"
          ]
        }
      ],
      "source": [
        "x=np.random.random((3,3))\n",
        "xmax,xmin=x.max(),x.min()\n",
        "x=(x-xmin)/(xmax-xmin)\n",
        "print(x)\n"
      ]
    },
    {
      "cell_type": "markdown",
      "metadata": {
        "id": "mF0Zr80KzXrp"
      },
      "source": [
        "#### 23. Create a custom dtype that describes a color as four unsigned bytes (RGBA) (★☆☆) \n",
        "(**hint**: np.dtype)"
      ]
    },
    {
      "cell_type": "code",
      "execution_count": 22,
      "metadata": {
        "collapsed": true,
        "colab": {
          "base_uri": "https://localhost:8080/"
        },
        "id": "-fT8_kaHzXrp",
        "outputId": "81ee6834-831b-4505-dcfd-53b3c0c5f4d1"
      },
      "outputs": [
        {
          "output_type": "stream",
          "name": "stdout",
          "text": [
            "1\n"
          ]
        },
        {
          "output_type": "execute_result",
          "data": {
            "text/plain": [
              "numpy.ndarray"
            ]
          },
          "metadata": {},
          "execution_count": 22
        }
      ],
      "source": [
        "RGBA = np.dtype([('red',np.uint8),('green',np.uint8),('blue',np.uint8),('alpha',np.uint8)])\n",
        "color = np.array((1,2,4,3),dtype = RGBA)\n",
        "print(color['red'])\n",
        "type(color)"
      ]
    },
    {
      "cell_type": "markdown",
      "metadata": {
        "id": "NKGSwvchzXrq"
      },
      "source": [
        "#### 24. Multiply a 5x3 matrix by a 3x2 matrix (real matrix product) (★☆☆) \n",
        "(**hint**: np.dot | @)"
      ]
    },
    {
      "cell_type": "code",
      "execution_count": 23,
      "metadata": {
        "colab": {
          "base_uri": "https://localhost:8080/"
        },
        "id": "ApsKCOyTzXrq",
        "outputId": "04de70ac-9897-40d7-cc6c-75c68c07ae05"
      },
      "outputs": [
        {
          "output_type": "stream",
          "name": "stdout",
          "text": [
            "[[0.85736421 0.71744684]\n",
            " [0.37212505 0.2415131 ]\n",
            " [0.50906605 0.39118631]\n",
            " [0.58892665 0.46093617]\n",
            " [0.74597377 0.55128578]]\n"
          ]
        },
        {
          "output_type": "execute_result",
          "data": {
            "text/plain": [
              "array([[0.85736421, 0.71744684],\n",
              "       [0.37212505, 0.2415131 ],\n",
              "       [0.50906605, 0.39118631],\n",
              "       [0.58892665, 0.46093617],\n",
              "       [0.74597377, 0.55128578]])"
            ]
          },
          "metadata": {},
          "execution_count": 23
        }
      ],
      "source": [
        "arr_1 = np.random.random((5,3))\n",
        "arr_2 = np.random.random((3,2))\n",
        "print(arr_1 @ arr_2)\n",
        "np.dot(arr_1,arr_2)"
      ]
    },
    {
      "cell_type": "markdown",
      "metadata": {
        "id": "7d1uN87OzXrq"
      },
      "source": [
        "#### 25. Given a 1D array, negate all elements which are between 3 and 8, in place. (★☆☆) \n",
        "(**hint**: >, <=)"
      ]
    },
    {
      "cell_type": "code",
      "execution_count": 24,
      "metadata": {
        "colab": {
          "base_uri": "https://localhost:8080/"
        },
        "id": "OBDy7gMCzXrr",
        "outputId": "0ceb417e-6eaf-44e0-c4dc-40f81cd0c3be"
      },
      "outputs": [
        {
          "output_type": "stream",
          "name": "stdout",
          "text": [
            "[False False False  True  True  True  True  True  True  True  True  True\n",
            "  True  True  True  True]\n",
            "[ 0  1  2 -3 -4 -5 -6 -7 -8  9 10 11 12 13 14 15]\n"
          ]
        }
      ],
      "source": [
        "arr=np.arange(16)\n",
        "print(arr>=3)\n",
        "arr[(arr>=3) & (arr<=8)]*=(-1)\n",
        "print(arr)"
      ]
    },
    {
      "cell_type": "markdown",
      "metadata": {
        "id": "oCiGt1e-zXrr"
      },
      "source": [
        "#### 26. What is the output of the following script? (★☆☆) \n",
        "(**hint**: np.sum)"
      ]
    },
    {
      "cell_type": "markdown",
      "metadata": {
        "id": "QYAimwxCzXrr"
      },
      "source": [
        "```python\n",
        "# Author: Jake VanderPlas\n",
        "\n",
        "print(sum(range(5),-1))\n",
        "from numpy import *\n",
        "print(sum(range(5),-1))\n",
        "```"
      ]
    },
    {
      "cell_type": "code",
      "execution_count": 25,
      "metadata": {
        "colab": {
          "base_uri": "https://localhost:8080/"
        },
        "id": "fvmz8sZ6zXrs",
        "outputId": "3ac3c514-5a1a-406b-eb14-7f222353457d"
      },
      "outputs": [
        {
          "output_type": "stream",
          "name": "stdout",
          "text": [
            "9\n",
            "10\n"
          ]
        }
      ],
      "source": [
        "print(sum(range(5),-1))\n",
        "from numpy import *\n",
        "print(sum(range(5),-1))"
      ]
    },
    {
      "cell_type": "markdown",
      "metadata": {
        "id": "0DD_hzyTzXrs"
      },
      "source": [
        "#### 27. Consider an integer vector Z, which of these expressions are legal? (★☆☆)"
      ]
    },
    {
      "cell_type": "markdown",
      "metadata": {
        "id": "x4wurtPnzXrs"
      },
      "source": [
        "```python\n",
        "Z**Z\n",
        "2 << Z >> 2\n",
        "Z <- Z\n",
        "1j*Z\n",
        "Z/1/1\n",
        "Z<Z>Z\n",
        "```"
      ]
    },
    {
      "cell_type": "code",
      "execution_count": 26,
      "metadata": {
        "colab": {
          "base_uri": "https://localhost:8080/",
          "height": 252
        },
        "id": "4z24yq2czXrs",
        "outputId": "b3837726-8771-4bf1-bc0a-91ef8a46e463"
      },
      "outputs": [
        {
          "output_type": "stream",
          "name": "stdout",
          "text": [
            "['0b10', '0b10', '0b10', '0b10', '0b10', '0b10', '0b10', '0b10', '0b10', '0b10']\n",
            "['0b10', '0b100', '0b1000', '0b100000', '0b1000000000', '0b100000000000000000', '0b1000000000000000000000000000000000', '0b0', '0b0', '0b0']\n",
            "['0b0', '0b1', '0b10', '0b100', '0b1000', '0b10000', '0b100000', '0b1000000', '0b10000000', '0b100000000']\n"
          ]
        },
        {
          "output_type": "error",
          "ename": "ValueError",
          "evalue": "ignored",
          "traceback": [
            "\u001b[0;31m---------------------------------------------------------------------------\u001b[0m",
            "\u001b[0;31mValueError\u001b[0m                                Traceback (most recent call last)",
            "\u001b[0;32m<ipython-input-26-7863139ee5be>\u001b[0m in \u001b[0;36m<module>\u001b[0;34m\u001b[0m\n\u001b[1;32m      6\u001b[0m \u001b[0mprint\u001b[0m\u001b[0;34m(\u001b[0m\u001b[0;34m[\u001b[0m\u001b[0mbin\u001b[0m\u001b[0;34m(\u001b[0m\u001b[0mz\u001b[0m\u001b[0;34m)\u001b[0m \u001b[0;32mfor\u001b[0m \u001b[0mz\u001b[0m \u001b[0;32min\u001b[0m \u001b[0;36m2\u001b[0m \u001b[0;34m<<\u001b[0m \u001b[0mZ_2\u001b[0m\u001b[0;34m]\u001b[0m\u001b[0;34m)\u001b[0m\u001b[0;34m\u001b[0m\u001b[0;34m\u001b[0m\u001b[0m\n\u001b[1;32m      7\u001b[0m \u001b[0mprint\u001b[0m\u001b[0;34m(\u001b[0m\u001b[0;34m[\u001b[0m\u001b[0mbin\u001b[0m\u001b[0;34m(\u001b[0m\u001b[0mz\u001b[0m\u001b[0;34m)\u001b[0m \u001b[0;32mfor\u001b[0m \u001b[0mz\u001b[0m \u001b[0;32min\u001b[0m \u001b[0mZ_2\u001b[0m\u001b[0;34m]\u001b[0m\u001b[0;34m)\u001b[0m\u001b[0;34m\u001b[0m\u001b[0;34m\u001b[0m\u001b[0m\n\u001b[0;32m----> 8\u001b[0;31m \u001b[0mZ\u001b[0m\u001b[0;34m<\u001b[0m\u001b[0mZ\u001b[0m\u001b[0;34m>\u001b[0m\u001b[0mZ\u001b[0m\u001b[0;34m\u001b[0m\u001b[0;34m\u001b[0m\u001b[0m\n\u001b[0m",
            "\u001b[0;31mValueError\u001b[0m: The truth value of an array with more than one element is ambiguous. Use a.any() or a.all()"
          ]
        }
      ],
      "source": [
        "Z = arange(10)\n",
        "Z**Z\n",
        "Z_2 = 2 << Z >> 2\n",
        "Z_2\n",
        "print([bin(2) for z in Z_2])\n",
        "print([bin(z) for z in 2 << Z_2])\n",
        "print([bin(z) for z in Z_2])\n",
        "Z<Z>Z"
      ]
    },
    {
      "cell_type": "markdown",
      "metadata": {
        "id": "18mkxdWNzXrt"
      },
      "source": [
        "#### 28. What are the result of the following expressions?"
      ]
    },
    {
      "cell_type": "markdown",
      "metadata": {
        "id": "Ti-mQj0WzXrt"
      },
      "source": [
        "```python\n",
        "np.array(0) / np.array(0)\n",
        "np.array(0) // np.array(0)\n",
        "np.array([np.nan]).astype(int).astype(float)\n",
        "```"
      ]
    },
    {
      "cell_type": "code",
      "execution_count": 27,
      "metadata": {
        "colab": {
          "base_uri": "https://localhost:8080/"
        },
        "id": "3wRVVpxQzXrt",
        "outputId": "82f8e63c-406e-46f6-a33e-99dcf5649132"
      },
      "outputs": [
        {
          "output_type": "execute_result",
          "data": {
            "text/plain": [
              "array([-9.22337204e+18])"
            ]
          },
          "metadata": {},
          "execution_count": 27
        }
      ],
      "source": [
        "np.array([np.nan]).astype(int).astype(float)"
      ]
    },
    {
      "cell_type": "markdown",
      "metadata": {
        "id": "TM_BxolzzXrt"
      },
      "source": [
        "#### 29. How to round away from zero a float array ? (★☆☆) \n",
        "(**hint**: np.uniform, np.copysign, np.ceil, np.abs)"
      ]
    },
    {
      "cell_type": "code",
      "execution_count": 28,
      "metadata": {
        "colab": {
          "base_uri": "https://localhost:8080/"
        },
        "id": "EqQ5Gtv7zXru",
        "outputId": "22c5b503-90e0-4715-8c27-d33ce8e903da"
      },
      "outputs": [
        {
          "output_type": "stream",
          "name": "stdout",
          "text": [
            "[[0.47261435 0.0822114  0.40933834 0.09951598 0.47542665]\n",
            " [0.79039931 0.18454112 0.30886397 0.70661728 0.03089836]\n",
            " [0.31772983 0.84736354 0.4514153  0.40602453 0.4297229 ]\n",
            " [0.05731116 0.79157908 0.8535974  0.85819036 0.94036554]\n",
            " [0.68876955 0.54274647 0.32695775 0.04850904 0.3367175 ]]\n",
            "[[0.47 0.08 0.41 0.1  0.48]\n",
            " [0.79 0.18 0.31 0.71 0.03]\n",
            " [0.32 0.85 0.45 0.41 0.43]\n",
            " [0.06 0.79 0.85 0.86 0.94]\n",
            " [0.69 0.54 0.33 0.05 0.34]]\n"
          ]
        }
      ],
      "source": [
        "arr = np.random.random((5,5))\n",
        "print(arr)\n",
        "arr = np.round(arr,2)\n",
        "print(arr)"
      ]
    },
    {
      "cell_type": "markdown",
      "metadata": {
        "id": "dr8fHIvIzXru"
      },
      "source": [
        "#### 30. How to find common values between two arrays? (★☆☆) \n",
        "(**hint**: np.intersect1d)"
      ]
    },
    {
      "cell_type": "code",
      "execution_count": 29,
      "metadata": {
        "colab": {
          "base_uri": "https://localhost:8080/"
        },
        "id": "_CBy_0DjzXru",
        "outputId": "270f5dbb-6eda-4fb9-bd84-75ef71473237"
      },
      "outputs": [
        {
          "output_type": "stream",
          "name": "stdout",
          "text": [
            "[1 2 3]\n"
          ]
        }
      ],
      "source": [
        "x=np.array([1,2,3,4])\n",
        "y=np.array([2,3,1,9])\n",
        "print(np.intersect1d(x,y))"
      ]
    },
    {
      "cell_type": "markdown",
      "metadata": {
        "id": "6kOZ_VCYzXru"
      },
      "source": [
        "#### 31. How to ignore all numpy warnings (not recommended)? (★☆☆) \n",
        "(**hint**: np.seterr, np.errstate)"
      ]
    },
    {
      "cell_type": "code",
      "execution_count": 30,
      "metadata": {
        "colab": {
          "base_uri": "https://localhost:8080/"
        },
        "id": "RbI8iXWTzXru",
        "outputId": "f2d8095c-9c8a-4d4f-963a-80f151456f7b"
      },
      "outputs": [
        {
          "output_type": "execute_result",
          "data": {
            "text/plain": [
              "{'divide': 'warn', 'over': 'warn', 'under': 'ignore', 'invalid': 'warn'}"
            ]
          },
          "metadata": {},
          "execution_count": 30
        }
      ],
      "source": [
        "import numpy as np\n",
        "data=np.random.random(1000).reshape(10,10,10)*np.nan\n",
        "np.seterr(all=\"ignore\")"
      ]
    },
    {
      "cell_type": "markdown",
      "metadata": {
        "id": "5ReNOX3uzXrv"
      },
      "source": [
        "#### 32. Is the following expressions true? (★☆☆) \n",
        "(**hint**: imaginary number)"
      ]
    },
    {
      "cell_type": "markdown",
      "metadata": {
        "id": "HVoFgdRvzXrv"
      },
      "source": [
        "```python\n",
        "np.sqrt(-1) == np.emath.sqrt(-1)\n",
        "```"
      ]
    },
    {
      "cell_type": "code",
      "execution_count": 31,
      "metadata": {
        "colab": {
          "base_uri": "https://localhost:8080/"
        },
        "id": "KQJ7l_LqzXrv",
        "outputId": "dcdda95b-7bf2-47d7-9bb9-fc5d71e38662"
      },
      "outputs": [
        {
          "output_type": "execute_result",
          "data": {
            "text/plain": [
              "False"
            ]
          },
          "metadata": {},
          "execution_count": 31
        }
      ],
      "source": [
        "np.sqrt(-1) == np.emath.sqrt(-1)"
      ]
    },
    {
      "cell_type": "markdown",
      "metadata": {
        "id": "-XamcbsbzXrv"
      },
      "source": [
        "#### 33. How to get the dates of yesterday, today and tomorrow? (★☆☆) \n",
        "(**hint**: np.datetime64, np.timedelta64)"
      ]
    },
    {
      "cell_type": "code",
      "execution_count": 34,
      "metadata": {
        "collapsed": true,
        "colab": {
          "base_uri": "https://localhost:8080/"
        },
        "id": "Edx6uv-fzXrw",
        "outputId": "63567196-7701-4ea3-f4d9-f3c1cbc3b48a"
      },
      "outputs": [
        {
          "output_type": "execute_result",
          "data": {
            "text/plain": [
              "numpy.datetime64('2022-09-26')"
            ]
          },
          "metadata": {},
          "execution_count": 34
        }
      ],
      "source": [
        "yesterday = np.datetime64('today', 'D') - np.timedelta64(1, 'D')\n",
        "today     = np.datetime64('today', 'D')\n",
        "tomorrow  = np.datetime64('today', 'D') + np.timedelta64(1, 'D')\n",
        "yesterday\n",
        "today\n",
        "tomorrow"
      ]
    },
    {
      "cell_type": "markdown",
      "metadata": {
        "id": "mQL6eD9izXrw"
      },
      "source": [
        "#### 34. How to get all the dates corresponding to the month of July 2016? (★★☆) \n",
        "(**hint**: np.arange(dtype=datetime64\\['D'\\]))"
      ]
    },
    {
      "cell_type": "code",
      "execution_count": 35,
      "metadata": {
        "colab": {
          "base_uri": "https://localhost:8080/"
        },
        "id": "3E-U8RLDzXrw",
        "outputId": "5a445648-8aaa-4d33-8b46-f761f10523ce"
      },
      "outputs": [
        {
          "output_type": "stream",
          "name": "stdout",
          "text": [
            "['2016-07-01' '2016-07-02' '2016-07-03' '2016-07-04' '2016-07-05'\n",
            " '2016-07-06' '2016-07-07' '2016-07-08' '2016-07-09' '2016-07-10'\n",
            " '2016-07-11' '2016-07-12' '2016-07-13' '2016-07-14' '2016-07-15'\n",
            " '2016-07-16' '2016-07-17' '2016-07-18' '2016-07-19' '2016-07-20'\n",
            " '2016-07-21' '2016-07-22' '2016-07-23' '2016-07-24' '2016-07-25'\n",
            " '2016-07-26' '2016-07-27' '2016-07-28' '2016-07-29' '2016-07-30'\n",
            " '2016-07-31']\n"
          ]
        }
      ],
      "source": [
        "Z = np.arange('2016-07', '2016-08', dtype='datetime64[D]')\n",
        "print(Z)"
      ]
    },
    {
      "cell_type": "markdown",
      "metadata": {
        "id": "4_GggBgqzXrw"
      },
      "source": [
        "#### 35. How to compute ((A+B)\\*(-A/2)) in place (without copy)? (★★☆) \n",
        "(**hint**: np.add(out=), np.negative(out=), np.multiply(out=), np.divide(out=))"
      ]
    },
    {
      "cell_type": "code",
      "execution_count": 37,
      "metadata": {
        "colab": {
          "base_uri": "https://localhost:8080/"
        },
        "id": "_QzBAG-ZzXrw",
        "outputId": "277f71b2-b360-4e91-fa08-fc486b524d9e"
      },
      "outputs": [
        {
          "output_type": "execute_result",
          "data": {
            "text/plain": [
              "-4.5"
            ]
          },
          "metadata": {},
          "execution_count": 37
        }
      ],
      "source": [
        "A = np.ones(3)*1\n",
        "B = np.ones(3)*2\n",
        "C = np.ones(3)*3\n",
        "np.add(A,B,out=B)\n",
        "np.divide(A,2,out=A)\n",
        "np.negative(A,out=A)\n",
        "np.dot(A,B)"
      ]
    },
    {
      "cell_type": "markdown",
      "metadata": {
        "id": "4__OXk2_zXrx"
      },
      "source": [
        "#### 36. Extract the integer part of a random array using 5 different methods (★★☆) \n",
        "(**hint**: %, np.floor, np.ceil, astype, np.trunc)"
      ]
    },
    {
      "cell_type": "code",
      "execution_count": 38,
      "metadata": {
        "colab": {
          "base_uri": "https://localhost:8080/"
        },
        "id": "Tk_RyCE1zXrx",
        "outputId": "0a8d9453-1bcc-4a0a-dcd2-163be0d28f63"
      },
      "outputs": [
        {
          "output_type": "stream",
          "name": "stdout",
          "text": [
            "[3. 7. 3. 8. 1. 9. 9. 8. 6. 9.]\n",
            "[3. 7. 3. 8. 1. 9. 9. 8. 6. 9.]\n",
            "[3. 7. 3. 8. 1. 9. 9. 8. 6. 9.]\n",
            "[3 7 3 8 1 9 9 8 6 9]\n"
          ]
        }
      ],
      "source": [
        "Z = np.random.uniform(0,10,10)\n",
        "\n",
        "print (Z - Z%1)\n",
        "print (np.floor(Z))\n",
        "print (np.ceil(Z)-1)\n",
        "print (Z.astype(int))"
      ]
    },
    {
      "cell_type": "markdown",
      "metadata": {
        "id": "yeuulSiTzXrx"
      },
      "source": [
        "#### 37. Create a 5x5 matrix with row values ranging from 0 to 4 (★★☆) \n",
        "(**hint**: np.arange)"
      ]
    },
    {
      "cell_type": "code",
      "execution_count": 39,
      "metadata": {
        "colab": {
          "base_uri": "https://localhost:8080/"
        },
        "id": "wkuSq6eozXrx",
        "outputId": "d2c68d65-faf8-4e49-dbbc-9e7bf2dbc4e8"
      },
      "outputs": [
        {
          "output_type": "stream",
          "name": "stdout",
          "text": [
            "[[0. 1. 2. 3. 4.]\n",
            " [0. 1. 2. 3. 4.]\n",
            " [0. 1. 2. 3. 4.]\n",
            " [0. 1. 2. 3. 4.]\n",
            " [0. 1. 2. 3. 4.]]\n"
          ]
        }
      ],
      "source": [
        "Z = np.zeros((5,5))\n",
        "Z += np.arange(5)\n",
        "print(Z)"
      ]
    },
    {
      "cell_type": "markdown",
      "metadata": {
        "id": "GUS3f3J1zXry"
      },
      "source": [
        "#### 38. Consider a generator function that generates 10 integers and use it to build an array (★☆☆) \n",
        "(**hint**: np.fromiter)"
      ]
    },
    {
      "cell_type": "code",
      "execution_count": 40,
      "metadata": {
        "colab": {
          "base_uri": "https://localhost:8080/"
        },
        "id": "1sX_lirzzXry",
        "outputId": "6b53a4ca-8b15-4b23-dce9-3e6f73c56507"
      },
      "outputs": [
        {
          "output_type": "stream",
          "name": "stdout",
          "text": [
            "[0. 1. 2. 3. 4. 5. 6. 7. 8. 9.]\n"
          ]
        }
      ],
      "source": [
        "def generate():\n",
        "    for x in range(10):\n",
        "        yield x\n",
        "Z = np.fromiter(generate(),dtype=float,count=-1)\n",
        "print(Z)"
      ]
    },
    {
      "cell_type": "markdown",
      "metadata": {
        "id": "LPWXYnnczXrz"
      },
      "source": [
        "#### 39. Create a vector of size 10 with values ranging from 0 to 1, both excluded (★★☆) \n",
        "(**hint**: np.linspace)"
      ]
    },
    {
      "cell_type": "code",
      "execution_count": 41,
      "metadata": {
        "colab": {
          "base_uri": "https://localhost:8080/"
        },
        "id": "CHaMErPlzXrz",
        "outputId": "2f03e975-aaba-4827-b529-a71174f826b4"
      },
      "outputs": [
        {
          "output_type": "stream",
          "name": "stdout",
          "text": [
            "[0.09090909 0.18181818 0.27272727 0.36363636 0.45454545 0.54545455\n",
            " 0.63636364 0.72727273 0.81818182 0.90909091]\n"
          ]
        }
      ],
      "source": [
        "Z = np.linspace(0,1,11,endpoint=False)[1:]\n",
        "print(Z)"
      ]
    },
    {
      "cell_type": "markdown",
      "metadata": {
        "id": "bKNaN_aZzXr0"
      },
      "source": [
        "#### 40. Create a random vector of size 10 and sort it (★★☆) \n",
        "(**hint**: sort)"
      ]
    },
    {
      "cell_type": "code",
      "execution_count": 42,
      "metadata": {
        "colab": {
          "base_uri": "https://localhost:8080/"
        },
        "id": "bkz3aQZYzXr0",
        "outputId": "01779738-4361-4de7-d4bb-6935b35a2eb7"
      },
      "outputs": [
        {
          "output_type": "stream",
          "name": "stdout",
          "text": [
            "[0.26303091 0.29680229 0.45763396 0.5960187  0.63133333 0.67944383\n",
            " 0.68957637 0.70562771 0.92424412 0.98627353]\n"
          ]
        }
      ],
      "source": [
        "Z = np.random.random(10)\n",
        "Z.sort()\n",
        "print(Z)"
      ]
    },
    {
      "cell_type": "markdown",
      "metadata": {
        "id": "ouROI_qnzXr1"
      },
      "source": [
        "#### 41. How to sum a small array faster than np.sum? (★★☆) \n",
        "(**hint**: np.add.reduce)"
      ]
    },
    {
      "cell_type": "code",
      "execution_count": 43,
      "metadata": {
        "colab": {
          "base_uri": "https://localhost:8080/"
        },
        "id": "Cn5OK51BzXr1",
        "outputId": "8508a3a5-67b7-4697-d20e-72b678d78c1b"
      },
      "outputs": [
        {
          "output_type": "execute_result",
          "data": {
            "text/plain": [
              "45"
            ]
          },
          "metadata": {},
          "execution_count": 43
        }
      ],
      "source": [
        "import functools as ft\n",
        "Z = np.arange(10)\n",
        "#np.add.reduce(Z)\n",
        "ft.reduce(np.add,Z,0)"
      ]
    },
    {
      "cell_type": "markdown",
      "metadata": {
        "id": "hcN8pWkIzXr2"
      },
      "source": [
        "#### 42. Consider two random array A and B, check if they are equal (★★☆) \n",
        "(**hint**: np.allclose, np.array\\_equal)"
      ]
    },
    {
      "cell_type": "code",
      "execution_count": 45,
      "metadata": {
        "colab": {
          "base_uri": "https://localhost:8080/"
        },
        "id": "xA0Dic6ozXr2",
        "outputId": "09c1ac6b-2fa7-4fb6-fbcc-8f98186b22fa"
      },
      "outputs": [
        {
          "output_type": "stream",
          "name": "stdout",
          "text": [
            "[0 0 1 1 1]\n",
            "************************************************************\n",
            "[1 0 0 0 0]\n",
            "************************************************************\n",
            "False\n",
            "False\n"
          ]
        }
      ],
      "source": [
        "A = np.random.randint(0,2,5)\n",
        "B = np.random.randint(0,2,5)\n",
        "print(A)\n",
        "print('*'*60)\n",
        "print(B)\n",
        "print('*'*60)\n",
        "\n",
        "equal = np.allclose(A,B)\n",
        "print(equal)\n",
        "\n",
        "\n",
        "equal = np.array_equal(A,B)\n",
        "print(equal)"
      ]
    },
    {
      "cell_type": "markdown",
      "metadata": {
        "id": "K6sTYbvYzXr3"
      },
      "source": [
        "#### 43. Make an array immutable (read-only) (★★☆) \n",
        "(**hint**: flags.writeable)"
      ]
    },
    {
      "cell_type": "code",
      "execution_count": 46,
      "metadata": {
        "id": "p9JGx0lizXr3"
      },
      "outputs": [],
      "source": [
        "Z = np.zeros(10)\n",
        "Z.flags.writeable = False"
      ]
    },
    {
      "cell_type": "markdown",
      "metadata": {
        "id": "s99LqJHrzXr3"
      },
      "source": [
        "#### 44. Consider a random 10x2 matrix representing cartesian coordinates, convert them to polar coordinates (★★☆) \n",
        "(**hint**: np.sqrt, np.arctan2)"
      ]
    },
    {
      "cell_type": "code",
      "execution_count": 47,
      "metadata": {
        "colab": {
          "base_uri": "https://localhost:8080/"
        },
        "id": "JOD07LhkzXr4",
        "outputId": "cf280dd6-8029-43a2-a1b1-0ee6ae362b2e"
      },
      "outputs": [
        {
          "output_type": "stream",
          "name": "stdout",
          "text": [
            "[[1.         1.57079633]\n",
            " [0.         0.        ]\n",
            " [7.         0.        ]\n",
            " [6.40312424 0.67474094]\n",
            " [5.09901951 0.19739556]\n",
            " [7.61577311 1.16590454]\n",
            " [8.60232527 0.62024949]\n",
            " [7.         0.        ]\n",
            " [4.12310563 0.24497866]\n",
            " [7.61577311 0.40489179]]\n"
          ]
        }
      ],
      "source": [
        "import numpy as np\n",
        "z= np.random.randint(0,9,(10,2))\n",
        "x,y = z[:,0], z[:,1]\n",
        "r = np.sqrt(x**2+y**2)\n",
        "t = np.arctan2(y,x)\n",
        "poles = np.c_[r,t]\n",
        "print(poles)"
      ]
    },
    {
      "cell_type": "markdown",
      "metadata": {
        "id": "FNrH1bQOzXr4"
      },
      "source": [
        "#### 45. Create random vector of size 10 and replace the maximum value by 0 (★★☆) \n",
        "(**hint**: argmax)"
      ]
    },
    {
      "cell_type": "code",
      "execution_count": 49,
      "metadata": {
        "colab": {
          "base_uri": "https://localhost:8080/"
        },
        "id": "2EQXVMOxzXr5",
        "outputId": "5f321c9f-286c-4fee-fa68-92df80d4e629"
      },
      "outputs": [
        {
          "output_type": "stream",
          "name": "stdout",
          "text": [
            "[0.09085142 0.82643446 0.70010682 0.92222452 0.64091531 0.6351004\n",
            " 0.73834904 0.48411628 0.17389048 0.03107927]\n",
            "[0.09085142 0.82643446 0.70010682 0.         0.64091531 0.6351004\n",
            " 0.73834904 0.48411628 0.17389048 0.03107927]\n"
          ]
        }
      ],
      "source": [
        "arr = np.random.random(10)\n",
        "print(arr)\n",
        "arr[arr.argmax()] = 0\n",
        "print(arr)"
      ]
    },
    {
      "cell_type": "markdown",
      "metadata": {
        "id": "qioRbtt_zXr5"
      },
      "source": [
        "#### 46. Create a structured array with `x` and `y` coordinates covering the \\[0,1\\]x\\[0,1\\] area (★★☆) \n",
        "(**hint**: np.meshgrid)"
      ]
    },
    {
      "cell_type": "code",
      "execution_count": 50,
      "metadata": {
        "colab": {
          "base_uri": "https://localhost:8080/"
        },
        "id": "HRwPywWqzXr6",
        "outputId": "821da8b0-5c31-48ed-ac85-a07bf5cb145d"
      },
      "outputs": [
        {
          "output_type": "execute_result",
          "data": {
            "text/plain": [
              "array([[0.09090909, 0.125     , 0.08333333, 0.25      , 0.16666667,\n",
              "        0.16666667, 0.11111111, 0.08333333, 0.09090909, 0.16666667],\n",
              "       [0.09090909, 0.125     , 0.08333333, 0.25      , 0.16666667,\n",
              "        0.16666667, 0.11111111, 0.08333333, 0.09090909, 0.16666667],\n",
              "       [0.0625    , 0.07692308, 0.05882353, 0.11111111, 0.09090909,\n",
              "        0.09090909, 0.07142857, 0.05882353, 0.0625    , 0.09090909],\n",
              "       [0.09090909, 0.125     , 0.08333333, 0.25      , 0.16666667,\n",
              "        0.16666667, 0.11111111, 0.08333333, 0.09090909, 0.16666667],\n",
              "       [0.09090909, 0.125     , 0.08333333, 0.25      , 0.16666667,\n",
              "        0.16666667, 0.11111111, 0.08333333, 0.09090909, 0.16666667],\n",
              "       [0.06666667, 0.08333333, 0.0625    , 0.125     , 0.1       ,\n",
              "        0.1       , 0.07692308, 0.0625    , 0.06666667, 0.1       ],\n",
              "       [0.07142857, 0.09090909, 0.06666667, 0.14285714, 0.11111111,\n",
              "        0.11111111, 0.08333333, 0.06666667, 0.07142857, 0.11111111],\n",
              "       [0.1       , 0.14285714, 0.09090909, 0.33333333, 0.2       ,\n",
              "        0.2       , 0.125     , 0.09090909, 0.1       , 0.2       ],\n",
              "       [0.07142857, 0.09090909, 0.06666667, 0.14285714, 0.11111111,\n",
              "        0.11111111, 0.08333333, 0.06666667, 0.07142857, 0.11111111],\n",
              "       [0.11111111, 0.16666667, 0.1       , 0.5       , 0.25      ,\n",
              "        0.25      , 0.14285714, 0.1       , 0.11111111, 0.25      ]])"
            ]
          },
          "metadata": {},
          "execution_count": 50
        }
      ],
      "source": [
        "Y = np.random.randint(0,11,10)\n",
        "X = np.random.randint(11,22,10)\n",
        "\n",
        "Y = np.tile(Y,(10,1))\n",
        "\n",
        "X  = np.tile(X,(10,1)).T\n",
        "\n",
        "\n",
        "C = 1/(X - Y)\n",
        "C"
      ]
    },
    {
      "cell_type": "markdown",
      "metadata": {
        "id": "uhW9usedzXr7"
      },
      "source": [
        "####  47. Given two arrays, X and Y, construct the Cauchy matrix C (Cij =1/(xi - yj)) \n",
        "(**hint**: np.subtract.outer)"
      ]
    },
    {
      "cell_type": "code",
      "execution_count": 51,
      "metadata": {
        "colab": {
          "base_uri": "https://localhost:8080/"
        },
        "id": "UzX6Ui9kzXr7",
        "outputId": "5aacc804-e51d-4b5b-99bb-764eb340e9b1"
      },
      "outputs": [
        {
          "output_type": "execute_result",
          "data": {
            "text/plain": [
              "array([[0.1       , 0.11111111, 0.05263158, 0.08333333, 0.05555556,\n",
              "        0.05882353, 0.1       , 0.09090909, 0.07142857, 0.1       ],\n",
              "       [0.1       , 0.11111111, 0.05263158, 0.08333333, 0.05555556,\n",
              "        0.05882353, 0.1       , 0.09090909, 0.07142857, 0.1       ],\n",
              "       [0.33333333, 0.5       , 0.08333333, 0.2       , 0.09090909,\n",
              "        0.1       , 0.33333333, 0.25      , 0.14285714, 0.33333333],\n",
              "       [0.14285714, 0.16666667, 0.0625    , 0.11111111, 0.06666667,\n",
              "        0.07142857, 0.14285714, 0.125     , 0.09090909, 0.14285714],\n",
              "       [0.11111111, 0.125     , 0.05555556, 0.09090909, 0.05882353,\n",
              "        0.0625    , 0.11111111, 0.1       , 0.07692308, 0.11111111],\n",
              "       [0.2       , 0.25      , 0.07142857, 0.14285714, 0.07692308,\n",
              "        0.08333333, 0.2       , 0.16666667, 0.11111111, 0.2       ],\n",
              "       [0.09090909, 0.1       , 0.05      , 0.07692308, 0.05263158,\n",
              "        0.05555556, 0.09090909, 0.08333333, 0.06666667, 0.09090909],\n",
              "       [0.16666667, 0.2       , 0.06666667, 0.125     , 0.07142857,\n",
              "        0.07692308, 0.16666667, 0.14285714, 0.1       , 0.16666667],\n",
              "       [0.08333333, 0.09090909, 0.04761905, 0.07142857, 0.05      ,\n",
              "        0.05263158, 0.08333333, 0.07692308, 0.0625    , 0.08333333],\n",
              "       [0.11111111, 0.125     , 0.05555556, 0.09090909, 0.05882353,\n",
              "        0.0625    , 0.11111111, 0.1       , 0.07692308, 0.11111111]])"
            ]
          },
          "metadata": {},
          "execution_count": 51
        }
      ],
      "source": [
        "Y = np.random.randint(0,11,10)\n",
        "X = np.random.randint(11,22,10)\n",
        "#print(Y.reshape(1,10))\n",
        "Y = np.tile(Y,(10,1))\n",
        "#print(X)\n",
        "X  = np.tile(X,(10,1)).T\n",
        "#print(X)\n",
        "\n",
        "C = 1/(X - Y)\n",
        "C"
      ]
    },
    {
      "cell_type": "markdown",
      "metadata": {
        "id": "zu_Tp0ujzXr7"
      },
      "source": [
        "#### 48. Print the minimum and maximum representable value for each numpy scalar type (★★☆) \n",
        "(**hint**: np.iinfo, np.finfo, eps)"
      ]
    },
    {
      "cell_type": "code",
      "execution_count": 52,
      "metadata": {
        "colab": {
          "base_uri": "https://localhost:8080/"
        },
        "id": "Ll42amirzXr8",
        "outputId": "5705d89a-fb52-42c1-aba2-0c9208d5ec63"
      },
      "outputs": [
        {
          "output_type": "stream",
          "name": "stdout",
          "text": [
            "-128\n",
            "127\n",
            "-2147483648\n",
            "2147483647\n",
            "-9223372036854775808\n",
            "9223372036854775807\n",
            "-3.4028235e+38\n",
            "3.4028235e+38\n",
            "1.1920929e-07\n",
            "-1.7976931348623157e+308\n",
            "1.7976931348623157e+308\n",
            "2.220446049250313e-16\n"
          ]
        }
      ],
      "source": [
        "for dtype in [np.int8, np.int32, np.int64]:\n",
        "    print(np.iinfo(dtype).min)\n",
        "    print(np.iinfo(dtype).max)\n",
        "for dtype in [np.float32, np.float64]:\n",
        "    print(np.finfo(dtype).min)\n",
        "    print(np.finfo(dtype).max)\n",
        "    print(np.finfo(dtype).eps)"
      ]
    },
    {
      "cell_type": "markdown",
      "metadata": {
        "id": "oGoKnp_AzXr8"
      },
      "source": [
        "#### 49. How to print all the values of an array? (★★☆) \n",
        "(**hint**: np.set\\_printoptions)"
      ]
    },
    {
      "cell_type": "code",
      "execution_count": 53,
      "metadata": {
        "colab": {
          "base_uri": "https://localhost:8080/"
        },
        "id": "ElVHkpefzXr9",
        "outputId": "1af7ac3a-85ad-4ee5-9c80-ce80a0db4449"
      },
      "outputs": [
        {
          "output_type": "stream",
          "name": "stdout",
          "text": [
            "[]\n"
          ]
        }
      ],
      "source": [
        "Z = []\n",
        "print(Z)"
      ]
    },
    {
      "cell_type": "markdown",
      "metadata": {
        "id": "DSrvKOGVzXr9"
      },
      "source": [
        "#### 50. How to find the closest value (to a given scalar) in a vector? (★★☆) \n",
        "(**hint**: argmin)"
      ]
    },
    {
      "cell_type": "code",
      "execution_count": 54,
      "metadata": {
        "colab": {
          "base_uri": "https://localhost:8080/"
        },
        "id": "rJ7afi9LzXr-",
        "outputId": "34569a9e-6459-4a77-e662-a71b10a000d8"
      },
      "outputs": [
        {
          "output_type": "stream",
          "name": "stdout",
          "text": [
            "[2.60822798 4.71496998 0.68029282 2.80717216 3.75653575 9.1783803\n",
            " 2.23375108 4.74158159 8.38989729 0.27078337]\n",
            "************************************************************\n",
            "4.741581589351465\n"
          ]
        }
      ],
      "source": [
        "arr = np.random.uniform(0,10,10)\n",
        "scal = 5\n",
        "arr_1 = np.abs(arr - 5)\n",
        "ind = arr_1.argmin()\n",
        "print(arr)\n",
        "print('*'*60)\n",
        "print(arr[ind])"
      ]
    },
    {
      "cell_type": "markdown",
      "metadata": {
        "id": "kZKHPxBDzXr-"
      },
      "source": [
        "#### 51. Create a structured array representing a position (x,y) and a color (r,g,b) (★★☆) \n",
        "(**hint**: dtype)"
      ]
    },
    {
      "cell_type": "code",
      "execution_count": 55,
      "metadata": {
        "colab": {
          "base_uri": "https://localhost:8080/"
        },
        "id": "gwXNQzdszXr_",
        "outputId": "78240a4c-0b39-4d8e-9083-093f70db98e5"
      },
      "outputs": [
        {
          "output_type": "stream",
          "name": "stdout",
          "text": [
            "[((0., 0.), (0., 0., 0.)) ((0., 0.), (0., 0., 0.))\n",
            " ((0., 0.), (0., 0., 0.)) ((0., 0.), (0., 0., 0.))\n",
            " ((0., 0.), (0., 0., 0.)) ((0., 0.), (0., 0., 0.))\n",
            " ((0., 0.), (0., 0., 0.)) ((0., 0.), (0., 0., 0.))\n",
            " ((0., 0.), (0., 0., 0.)) ((0., 0.), (0., 0., 0.))]\n"
          ]
        }
      ],
      "source": [
        "Z = np.zeros(10, [ ('position', [ ('x', float),\n",
        "                                  ('y', float)]),\n",
        "                   ('color',    [ ('r', float),\n",
        "                                  ('g', float),\n",
        "                                  ('b', float)])])\n",
        "print(Z)\n"
      ]
    },
    {
      "cell_type": "markdown",
      "metadata": {
        "id": "s4DB9DxpzXr_"
      },
      "source": [
        "#### 52. Consider a random vector with shape (100,2) representing coordinates, find point by point distances (★★☆) \n",
        "(**hint**: np.atleast\\_2d, T, np.sqrt)"
      ]
    },
    {
      "cell_type": "code",
      "execution_count": 56,
      "metadata": {
        "colab": {
          "base_uri": "https://localhost:8080/"
        },
        "id": "Z9nRrIZtzXsA",
        "outputId": "7bc02b70-05d7-48ae-c3e0-096f857797b9"
      },
      "outputs": [
        {
          "output_type": "stream",
          "name": "stdout",
          "text": [
            "[[0.         0.23343253 0.44567756 0.31400632 0.45874552 0.23972333\n",
            "  0.06472855 0.68207376 0.39612399 0.20902143]\n",
            " [0.23343253 0.         0.36358466 0.28677071 0.60851114 0.46468391\n",
            "  0.20949716 0.54411278 0.22404889 0.1179261 ]\n",
            " [0.44567756 0.36358466 0.         0.64653712 0.90315532 0.55417971\n",
            "  0.47681109 0.87627717 0.1893584  0.47460559]\n",
            " [0.31400632 0.28677071 0.64653712 0.         0.39742269 0.52195544\n",
            "  0.24927979 0.38920932 0.50738042 0.17193174]\n",
            " [0.45874552 0.60851114 0.90315532 0.39742269 0.         0.48813296\n",
            "  0.42877281 0.70995027 0.82356825 0.50141601]\n",
            " [0.23972333 0.46468391 0.55417971 0.52195544 0.48813296 0.\n",
            "  0.29288806 0.90675923 0.57770041 0.44749989]\n",
            " [0.06472855 0.20949716 0.47681109 0.24927979 0.42877281 0.29288806\n",
            "  0.         0.61987831 0.40142099 0.15666814]\n",
            " [0.68207376 0.54411278 0.87627717 0.38920932 0.70995027 0.90675923\n",
            "  0.61987831 0.         0.69267846 0.48335494]\n",
            " [0.39612399 0.22404889 0.1893584  0.50738042 0.82356825 0.57770041\n",
            "  0.40142099 0.69267846 0.         0.34184779]\n",
            " [0.20902143 0.1179261  0.47460559 0.17193174 0.50141601 0.44749989\n",
            "  0.15666814 0.48335494 0.34184779 0.        ]]\n"
          ]
        }
      ],
      "source": [
        "arr = np.random.random((100,2))\n",
        "X,Y = np.atleast_2d(arr[:,0],arr[:,1])\n",
        "D = np.sqrt( (X-X.T)**2 + (Y-Y.T)**2)\n",
        "\n",
        "# Much faster with scipy\n",
        "import scipy\n",
        "# Thanks Gavin Heverly-Coulson (#issue 1)\n",
        "import scipy.spatial\n",
        "\n",
        "Z = np.random.random((10,2))\n",
        "D = scipy.spatial.distance.cdist(Z,Z)\n",
        "print(D)"
      ]
    },
    {
      "cell_type": "markdown",
      "metadata": {
        "id": "OidakzpkzXsA"
      },
      "source": [
        "#### 53. How to convert a float (32 bits) array into an integer (32 bits) in place? \n",
        "(**hint**: astype(copy=False))"
      ]
    },
    {
      "cell_type": "code",
      "execution_count": 57,
      "metadata": {
        "colab": {
          "base_uri": "https://localhost:8080/"
        },
        "id": "fftsxBbhzXsB",
        "outputId": "182c1eb2-9ae9-4864-c4d8-fbd204e309af"
      },
      "outputs": [
        {
          "output_type": "stream",
          "name": "stdout",
          "text": [
            "[2. 1. 2. 3. 4. 5. 6. 7. 8. 9.]\n"
          ]
        }
      ],
      "source": [
        "Z = np.arange(10, dtype=np.float32)\n",
        "Z_1 = Z.astype(np.float32, copy=False)\n",
        "Z_1[0] = 2\n",
        "print(Z)"
      ]
    },
    {
      "cell_type": "markdown",
      "metadata": {
        "id": "TuN631s0zXsB"
      },
      "source": [
        "#### 54. How to read the following file? (★★☆) \n",
        "(**hint**: np.genfromtxt)"
      ]
    },
    {
      "cell_type": "markdown",
      "metadata": {
        "id": "s2EqCD0xzXsB"
      },
      "source": [
        "```\n",
        "1, 2, 3, 4, 5\n",
        "6,  ,  , 7, 8\n",
        " ,  , 9,10,11\n",
        "```"
      ]
    },
    {
      "cell_type": "code",
      "execution_count": 58,
      "metadata": {
        "colab": {
          "base_uri": "https://localhost:8080/"
        },
        "id": "oDVQxGTdzXsC",
        "outputId": "b9433fbd-d8ee-4c5f-a0af-a8d9e4889e44"
      },
      "outputs": [
        {
          "output_type": "stream",
          "name": "stdout",
          "text": [
            "[[ 1  2  3  4  5]\n",
            " [ 6 -1 -1  7  8]\n",
            " [-1 -1  9 10 11]]\n"
          ]
        },
        {
          "output_type": "stream",
          "name": "stderr",
          "text": [
            "/usr/local/lib/python3.7/dist-packages/ipykernel_launcher.py:7: DeprecationWarning: `np.int` is a deprecated alias for the builtin `int`. To silence this warning, use `int` by itself. Doing this will not modify any behavior and is safe. When replacing `np.int`, you may wish to use e.g. `np.int64` or `np.int32` to specify the precision. If you wish to review your current use, check the release note link for additional information.\n",
            "Deprecated in NumPy 1.20; for more details and guidance: https://numpy.org/devdocs/release/1.20.0-notes.html#deprecations\n",
            "  import sys\n"
          ]
        }
      ],
      "source": [
        "from io import StringIO\n",
        "\n",
        " \n",
        "s = StringIO(\"\"\"1, 2, 3, 4, 5\\n\n",
        "                6,  ,  , 7, 8\\n\n",
        "                 ,  , 9,10,11\\n\"\"\")\n",
        "Z = np.genfromtxt(s, delimiter=\",\", dtype=np.int)\n",
        "print(Z)"
      ]
    },
    {
      "cell_type": "markdown",
      "metadata": {
        "id": "JdLbwt0MzXsC"
      },
      "source": [
        "#### 55. What is the equivalent of enumerate for numpy arrays? (★★☆) \n",
        "(**hint**: np.ndenumerate, np.ndindex)"
      ]
    },
    {
      "cell_type": "code",
      "execution_count": 59,
      "metadata": {
        "colab": {
          "base_uri": "https://localhost:8080/"
        },
        "id": "dhicPBxQzXsD",
        "outputId": "42383edf-cd6e-4c04-b7b9-b4cc98857e5a"
      },
      "outputs": [
        {
          "output_type": "stream",
          "name": "stdout",
          "text": [
            "(0, 0) 0\n",
            "(0, 1) 1\n",
            "(0, 2) 2\n",
            "(1, 0) 3\n",
            "(1, 1) 4\n",
            "(1, 2) 5\n",
            "(2, 0) 6\n",
            "(2, 1) 7\n",
            "(2, 2) 8\n",
            "(0, 0) 0\n",
            "(0, 1) 1\n",
            "(0, 2) 2\n",
            "(1, 0) 3\n",
            "(1, 1) 4\n",
            "(1, 2) 5\n",
            "(2, 0) 6\n",
            "(2, 1) 7\n",
            "(2, 2) 8\n"
          ]
        }
      ],
      "source": [
        "Z = np.arange(9).reshape(3,3)\n",
        "for index, value in np.ndenumerate(Z):\n",
        "    print(index, value)\n",
        "for index in np.ndindex(Z.shape):\n",
        "    print(index, Z[index])"
      ]
    },
    {
      "cell_type": "markdown",
      "metadata": {
        "id": "swEMRKZFzXsD"
      },
      "source": [
        "#### 56. Generate a generic 2D Gaussian-like array (★★☆) \n",
        "(**hint**: np.meshgrid, np.exp)"
      ]
    },
    {
      "cell_type": "code",
      "execution_count": 60,
      "metadata": {
        "colab": {
          "base_uri": "https://localhost:8080/"
        },
        "id": "Xk1m6-XKzXsE",
        "outputId": "039d49c4-1c85-42fc-9167-062e3a3cf5a7"
      },
      "outputs": [
        {
          "output_type": "stream",
          "name": "stdout",
          "text": [
            "[[0.36787944 0.44822088 0.51979489 0.57375342 0.60279818 0.60279818\n",
            "  0.57375342 0.51979489 0.44822088 0.36787944]\n",
            " [0.44822088 0.54610814 0.63331324 0.69905581 0.73444367 0.73444367\n",
            "  0.69905581 0.63331324 0.54610814 0.44822088]\n",
            " [0.51979489 0.63331324 0.73444367 0.81068432 0.85172308 0.85172308\n",
            "  0.81068432 0.73444367 0.63331324 0.51979489]\n",
            " [0.57375342 0.69905581 0.81068432 0.89483932 0.9401382  0.9401382\n",
            "  0.89483932 0.81068432 0.69905581 0.57375342]\n",
            " [0.60279818 0.73444367 0.85172308 0.9401382  0.98773022 0.98773022\n",
            "  0.9401382  0.85172308 0.73444367 0.60279818]\n",
            " [0.60279818 0.73444367 0.85172308 0.9401382  0.98773022 0.98773022\n",
            "  0.9401382  0.85172308 0.73444367 0.60279818]\n",
            " [0.57375342 0.69905581 0.81068432 0.89483932 0.9401382  0.9401382\n",
            "  0.89483932 0.81068432 0.69905581 0.57375342]\n",
            " [0.51979489 0.63331324 0.73444367 0.81068432 0.85172308 0.85172308\n",
            "  0.81068432 0.73444367 0.63331324 0.51979489]\n",
            " [0.44822088 0.54610814 0.63331324 0.69905581 0.73444367 0.73444367\n",
            "  0.69905581 0.63331324 0.54610814 0.44822088]\n",
            " [0.36787944 0.44822088 0.51979489 0.57375342 0.60279818 0.60279818\n",
            "  0.57375342 0.51979489 0.44822088 0.36787944]]\n"
          ]
        }
      ],
      "source": [
        "sigma,myu = 1.0,0.0\n",
        "\n",
        "X,Y  = np.meshgrid(np.linspace(-1,1,10),np.linspace(-1,1,10))\n",
        "D = np.sqrt(X**2+Y**2)\n",
        "G = np.exp(-(D-myu)**2/(2*sigma**2))\n",
        "print(G)"
      ]
    },
    {
      "cell_type": "markdown",
      "metadata": {
        "id": "E6YRGs2PzXsE"
      },
      "source": [
        "#### 57. How to randomly place p elements in a 2D array? (★★☆) \n",
        "(**hint**: np.put, np.random.choice)"
      ]
    },
    {
      "cell_type": "code",
      "execution_count": 61,
      "metadata": {
        "colab": {
          "base_uri": "https://localhost:8080/"
        },
        "id": "R_zaQA-fzXsF",
        "outputId": "d5f141fe-415c-4425-e101-0bcca2ca1f36"
      },
      "outputs": [
        {
          "output_type": "stream",
          "name": "stdout",
          "text": [
            "[[0. 0. 0. 0. 0. 0. 0. 0. 0. 0.]\n",
            " [0. 0. 0. 0. 0. 0. 0. 0. 0. 0.]\n",
            " [0. 0. 0. 0. 0. 0. 0. 0. 0. 0.]\n",
            " [0. 0. 0. 0. 0. 0. 0. 0. 0. 0.]\n",
            " [0. 0. 0. 0. 0. 0. 0. 0. 0. 0.]\n",
            " [0. 0. 0. 0. 0. 1. 0. 0. 0. 0.]\n",
            " [0. 1. 0. 0. 0. 0. 0. 0. 0. 0.]\n",
            " [0. 0. 0. 0. 0. 0. 0. 0. 0. 0.]\n",
            " [0. 0. 0. 0. 0. 0. 0. 0. 0. 1.]\n",
            " [0. 0. 0. 0. 0. 0. 0. 0. 0. 0.]]\n",
            "[[0. 0. 0. 0. 0. 0. 0. 0. 0. 0.]\n",
            " [0. 1. 0. 0. 0. 0. 0. 0. 0. 0.]\n",
            " [0. 0. 0. 0. 0. 0. 0. 0. 0. 0.]\n",
            " [0. 0. 0. 0. 0. 0. 0. 0. 0. 0.]\n",
            " [0. 0. 0. 0. 0. 0. 0. 0. 0. 0.]\n",
            " [0. 0. 0. 0. 0. 1. 0. 0. 0. 0.]\n",
            " [0. 1. 0. 0. 0. 0. 0. 0. 0. 0.]\n",
            " [0. 0. 0. 0. 0. 0. 0. 0. 0. 0.]\n",
            " [0. 0. 0. 0. 0. 0. 0. 0. 0. 1.]\n",
            " [0. 0. 0. 0. 0. 0. 0. 0. 0. 0.]]\n"
          ]
        }
      ],
      "source": [
        "n = 10\n",
        "p = 3\n",
        "Z = np.zeros((n,n))\n",
        "np.put(Z, np.random.choice(range(n*n), p, replace=False),1)\n",
        "print(Z)\n",
        "\n",
        "np.put(Z,11,1)\n",
        "print(Z)"
      ]
    },
    {
      "cell_type": "markdown",
      "metadata": {
        "id": "3Ufa7kcNzXsF"
      },
      "source": [
        "#### 58. Subtract the mean of each row of a matrix (★★☆) \n",
        "(**hint**: mean(axis=,keepdims=))"
      ]
    },
    {
      "cell_type": "code",
      "execution_count": 62,
      "metadata": {
        "colab": {
          "base_uri": "https://localhost:8080/"
        },
        "id": "kuJNXfL6zXsG",
        "outputId": "2a19de63-2072-46ae-c99f-f7e99d455671"
      },
      "outputs": [
        {
          "output_type": "execute_result",
          "data": {
            "text/plain": [
              "array([[ True],\n",
              "       [ True],\n",
              "       [ True],\n",
              "       [ True],\n",
              "       [ True]])"
            ]
          },
          "metadata": {},
          "execution_count": 62
        }
      ],
      "source": [
        "X = np.random.rand(5, 10)\n",
        "Y = X - X.mean(axis = 1,keepdims = True)\n",
        "#print(Y)\n",
        "X.mean(axis = 1).reshape(-1,1) == X.mean(axis = 1,keepdims =True)"
      ]
    },
    {
      "cell_type": "markdown",
      "metadata": {
        "id": "d6VbBpb3zXsG"
      },
      "source": [
        "#### 59. How to sort an array by the nth column? (★★☆) \n",
        "(**hint**: argsort)"
      ]
    },
    {
      "cell_type": "code",
      "execution_count": 63,
      "metadata": {
        "colab": {
          "base_uri": "https://localhost:8080/"
        },
        "id": "vJgDdijrzXsH",
        "outputId": "08a799f9-f8e2-445f-f819-d691cfd27b48"
      },
      "outputs": [
        {
          "output_type": "stream",
          "name": "stdout",
          "text": [
            "[[7 8 2 7 8]\n",
            " [2 4 1 3 9]\n",
            " [9 6 6 0 6]\n",
            " [5 3 2 5 9]\n",
            " [2 8 4 4 4]]\n",
            "[[7 8 2 7 8]\n",
            " [2 8 4 4 4]\n",
            " [9 6 6 0 6]\n",
            " [2 4 1 3 9]\n",
            " [5 3 2 5 9]]\n",
            "[[2 7 7 8 8]\n",
            " [1 2 3 4 9]\n",
            " [6 9 0 6 6]\n",
            " [2 5 5 3 9]\n",
            " [4 2 4 8 4]]\n"
          ]
        }
      ],
      "source": [
        "Z = np.random.randint(0,10,(5,5))\n",
        "print(Z)\n",
        "print(Z[(-Z)[:,1].argsort()])\n",
        "print(Z[:,Z[1,:].argsort()])"
      ]
    },
    {
      "cell_type": "markdown",
      "metadata": {
        "id": "Bbim_7VDzXsH"
      },
      "source": [
        "#### 60. How to tell if a given 2D array has null columns? (★★☆) \n",
        "(**hint**: any, ~)"
      ]
    },
    {
      "cell_type": "code",
      "execution_count": 64,
      "metadata": {
        "colab": {
          "base_uri": "https://localhost:8080/"
        },
        "id": "WEduY5IpzXsH",
        "outputId": "0d0afa6a-f813-4a25-b81c-f6a8d4d6a62b"
      },
      "outputs": [
        {
          "output_type": "stream",
          "name": "stdout",
          "text": [
            "[[ True False  True  True False  True  True False  True False]\n",
            " [ True False False  True False  True  True  True False False]\n",
            " [False False  True  True False  True False False False  True]]\n",
            "[[False  True False False  True False False  True False  True]\n",
            " [False  True  True False  True False False False  True  True]\n",
            " [ True  True False False  True False  True  True  True False]]\n"
          ]
        },
        {
          "output_type": "execute_result",
          "data": {
            "text/plain": [
              "array([ True, False,  True,  True, False,  True,  True,  True,  True,\n",
              "        True])"
            ]
          },
          "metadata": {},
          "execution_count": 64
        }
      ],
      "source": [
        "Z = np.random.randint(0,3,(3,10))\n",
        "Z[:,1] = 0\n",
        "Z = Z.astype(bool)\n",
        "print(Z)\n",
        "print(~Z)\n",
        "(Z).any(axis = 0)"
      ]
    },
    {
      "cell_type": "markdown",
      "metadata": {
        "id": "wVTx7_CAzXsI"
      },
      "source": [
        "#### 61. Find the nearest value from a given value in an array (★★☆) \n",
        "(**hint**: np.abs, argmin, flat)"
      ]
    },
    {
      "cell_type": "code",
      "execution_count": 65,
      "metadata": {
        "colab": {
          "base_uri": "https://localhost:8080/"
        },
        "id": "SXK2I6mXzXsI",
        "outputId": "a4c11e9e-a3eb-4e57-ee41-8b687cc57fff"
      },
      "outputs": [
        {
          "output_type": "stream",
          "name": "stdout",
          "text": [
            "1\n",
            "2\n"
          ]
        }
      ],
      "source": [
        "arr=np.array([8,7,1,5,3,4])\n",
        "difarr=np.absolute(arr-2)\n",
        "index=difarr.argmin()\n",
        "print(arr[index])\n",
        "print(index)"
      ]
    },
    {
      "cell_type": "markdown",
      "metadata": {
        "id": "UNcHJUJCzXsJ"
      },
      "source": [
        "#### 62. Considering two arrays with shape (1,3) and (3,1), how to compute their sum using an iterator? (★★☆) \n",
        "(**hint**: np.nditer)"
      ]
    },
    {
      "cell_type": "code",
      "execution_count": 66,
      "metadata": {
        "colab": {
          "base_uri": "https://localhost:8080/"
        },
        "id": "YeMztKGhzXsJ",
        "outputId": "28c181cc-0c34-493f-8bef-90a6d69aa594"
      },
      "outputs": [
        {
          "output_type": "stream",
          "name": "stdout",
          "text": [
            "[[0 1 2]\n",
            " [1 2 3]\n",
            " [2 3 4]]\n"
          ]
        }
      ],
      "source": [
        "A = np.arange(3).reshape(3,1)\n",
        "B = np.arange(3).reshape(1,3)\n",
        "it = np.nditer([A,B,None])\n",
        "for x,y,z in it: z[...] = x + y\n",
        "print(it.operands[2])"
      ]
    },
    {
      "cell_type": "markdown",
      "metadata": {
        "id": "FTbJuNc9zXsK"
      },
      "source": [
        "#### 63. Create an array class that has a name attribute (★★☆) \n",
        "(**hint**: class method)"
      ]
    },
    {
      "cell_type": "code",
      "execution_count": null,
      "metadata": {
        "id": "3d0m84m1zXsL"
      },
      "outputs": [],
      "source": [
        "class NamedArray(np.ndarray):\n",
        "    def __new__(cls, array, name=\"no name\"):\n",
        "        obj = np.asarray(array).view(cls)\n",
        "        obj.name = name\n",
        "        return obj\n",
        "    def __array_finalize__(self, obj):\n",
        "        if obj is None: return\n",
        "        self.info = getattr(obj, 'name', \"no name\")\n",
        "\n",
        "Z = NamedArray(np.arange(10), \"range_10\")\n",
        "print (Z.name)"
      ]
    },
    {
      "cell_type": "markdown",
      "metadata": {
        "id": "VpiSPK53zXsL"
      },
      "source": [
        "#### 64. Consider a given vector, how to add 1 to each element indexed by a second vector (be careful with repeated indices)? (★★★) \n",
        "(**hint**: np.bincount | np.add.at)"
      ]
    },
    {
      "cell_type": "code",
      "execution_count": 67,
      "metadata": {
        "colab": {
          "base_uri": "https://localhost:8080/"
        },
        "id": "LNoacsfXzXsM",
        "outputId": "b422eb41-9490-404e-b1a9-969bae08e378"
      },
      "outputs": [
        {
          "output_type": "stream",
          "name": "stdout",
          "text": [
            "[4. 3. 2. 3. 4. 2. 3. 4. 3. 2.]\n",
            "[7. 5. 3. 5. 7. 3. 5. 7. 5. 3.]\n"
          ]
        }
      ],
      "source": [
        "Z = np.ones(10)\n",
        "I = np.random.randint(0,len(Z),20)\n",
        "Z += np.bincount(I, minlength=len(Z))\n",
        "print(Z)\n",
        "np.add.at(Z, I, 1)\n",
        "print(Z)"
      ]
    },
    {
      "cell_type": "markdown",
      "metadata": {
        "id": "Wusv4RTVzXsM"
      },
      "source": [
        "#### 65. How to accumulate elements of a vector (X) to an array (F) based on an index list (I)? (★★★) \n",
        "(**hint**: np.bincount)"
      ]
    },
    {
      "cell_type": "code",
      "execution_count": 68,
      "metadata": {
        "colab": {
          "base_uri": "https://localhost:8080/"
        },
        "id": "YvkuNc0jzXsM",
        "outputId": "b73b16e8-15b2-4c6c-9dba-d7cc1cc264e6"
      },
      "outputs": [
        {
          "output_type": "stream",
          "name": "stdout",
          "text": [
            "[0. 7. 0. 6. 5. 0. 0. 0. 0. 3.]\n"
          ]
        }
      ],
      "source": [
        "X = [1,2,3,4,5,6]\n",
        "I = [1,3,9,3,4,1]\n",
        "F = np.bincount(I,X)\n",
        "print(F)"
      ]
    },
    {
      "cell_type": "markdown",
      "metadata": {
        "id": "XpRozqE5zXsN"
      },
      "source": [
        "#### 66. Considering a (w,h,3) image of (dtype=ubyte), compute the number of unique colors (★★★) \n",
        "(**hint**: np.unique)"
      ]
    },
    {
      "cell_type": "code",
      "execution_count": 69,
      "metadata": {
        "colab": {
          "base_uri": "https://localhost:8080/"
        },
        "id": "oURdpOOzzXsN",
        "outputId": "18827f44-07a3-4cf2-83b4-d9ad3bbc2227"
      },
      "outputs": [
        {
          "output_type": "stream",
          "name": "stdout",
          "text": [
            "64\n",
            "64\n"
          ]
        }
      ],
      "source": [
        " w, h = 256, 256\n",
        "I = np.random.randint(0, 4, (h, w, 3)).astype(np.ubyte)\n",
        "colors = np.unique(I.reshape(-1, 3), axis=0)\n",
        "n = len(colors)\n",
        "print(n)\n",
        "\n",
        "\n",
        "w, h = 256, 256\n",
        "I = np.random.randint(0,4,(h,w,3), dtype=np.uint8)\n",
        "\n",
        "\n",
        "I24 = np.dot(I.astype(np.uint32),[1,256,65536])\n",
        "\n",
        "\n",
        "n = len(np.unique(I24))\n",
        "print(n)"
      ]
    },
    {
      "cell_type": "markdown",
      "metadata": {
        "id": "FavvoyFyzXsN"
      },
      "source": [
        "#### 67. Considering a four dimensions array, how to get sum over the last two axis at once? (★★★) \n",
        "(**hint**: sum(axis=(-2,-1)))"
      ]
    },
    {
      "cell_type": "code",
      "execution_count": 70,
      "metadata": {
        "colab": {
          "base_uri": "https://localhost:8080/"
        },
        "id": "2GmNjB8nzXsO",
        "outputId": "d0966599-a491-4f1c-e5bb-77db0444e986"
      },
      "outputs": [
        {
          "output_type": "stream",
          "name": "stdout",
          "text": [
            "[[46 50 48 48]\n",
            " [41 48 59 49]\n",
            " [61 63 45 51]]\n",
            "[[46 50 48 48]\n",
            " [41 48 59 49]\n",
            " [61 63 45 51]]\n"
          ]
        }
      ],
      "source": [
        "A = np.random.randint(0,10,(3,4,3,4)) \n",
        "sum = A.sum(axis=(-2,-1))\n",
        "print(sum)\n",
        "sum = A.reshape(A.shape[:-2] + (-1,)).sum(axis=-1)\n",
        "print(sum)"
      ]
    },
    {
      "cell_type": "markdown",
      "metadata": {
        "id": "yk523SbkzXsO"
      },
      "source": [
        "#### 68. Considering a one-dimensional vector D, how to compute means of subsets of D using a vector S of same size describing subset  indices? (★★★) \n",
        "(**hint**: np.bincount)"
      ]
    },
    {
      "cell_type": "code",
      "execution_count": 71,
      "metadata": {
        "colab": {
          "base_uri": "https://localhost:8080/"
        },
        "id": "hjqabAopzXsO",
        "outputId": "d09a721c-2118-4a72-ac61-6ca7e6c897b0"
      },
      "outputs": [
        {
          "output_type": "stream",
          "name": "stdout",
          "text": [
            "[0.46257077 0.68020934 0.47374113 0.74354057 0.37735    0.34847767\n",
            " 0.69361114 0.47816657 0.45732215 0.5033655 ]\n",
            "0    0.462571\n",
            "1    0.680209\n",
            "2    0.473741\n",
            "3    0.743541\n",
            "4    0.377350\n",
            "5    0.348478\n",
            "6    0.693611\n",
            "7    0.478167\n",
            "8    0.457322\n",
            "9    0.503366\n",
            "dtype: float64\n"
          ]
        }
      ],
      "source": [
        "D = np.random.uniform(0,1,100)\n",
        "S = np.random.randint(0,10,100)\n",
        "D_sums = np.bincount(S, weights=D)\n",
        "D_counts = np.bincount(S)\n",
        "D_means = D_sums / D_counts\n",
        "print(D_means)\n",
        "import pandas as pd\n",
        "print(pd.Series(D).groupby(S).mean())"
      ]
    },
    {
      "cell_type": "markdown",
      "metadata": {
        "id": "oZcBCtfuzXsP"
      },
      "source": [
        "#### 69. How to get the diagonal of a dot product? (★★★) \n",
        "(**hint**: np.diag)"
      ]
    },
    {
      "cell_type": "code",
      "execution_count": 72,
      "metadata": {
        "colab": {
          "base_uri": "https://localhost:8080/"
        },
        "id": "7htX_kQMzXsP",
        "outputId": "68067519-0261-44f7-b258-3c1465ac2a49"
      },
      "outputs": [
        {
          "output_type": "execute_result",
          "data": {
            "text/plain": [
              "array([2.04351656, 0.64935484, 1.41479034, 0.92011657, 0.35944391])"
            ]
          },
          "metadata": {},
          "execution_count": 72
        }
      ],
      "source": [
        "A = np.random.uniform(0,1,(5,5))\n",
        "B = np.random.uniform(0,1,(5,5))\n",
        "\n",
        "\n",
        "np.diag(np.dot(A, B))\n",
        "\n",
        "\n",
        "np.sum(A * B.T, axis=1)\n",
        "\n",
        "\n",
        "np.einsum(\"ij,ji->i\", A, B)"
      ]
    },
    {
      "cell_type": "markdown",
      "metadata": {
        "id": "wE8Z-eWbzXsP"
      },
      "source": [
        "#### 70. Consider the vector \\[1, 2, 3, 4, 5\\], how to build a new vector with 3 consecutive zeros interleaved between each value? (★★★) \n",
        "(**hint**: array\\[::4\\])"
      ]
    },
    {
      "cell_type": "code",
      "execution_count": 73,
      "metadata": {
        "colab": {
          "base_uri": "https://localhost:8080/"
        },
        "id": "Qw65YqMFzXsQ",
        "outputId": "094c9eba-e76d-4a09-eddd-a47e80889978"
      },
      "outputs": [
        {
          "output_type": "stream",
          "name": "stdout",
          "text": [
            "[1. 0. 0. 0. 2. 0. 0. 0. 3. 0. 0. 0. 4. 0. 0. 0. 5.]\n"
          ]
        }
      ],
      "source": [
        "Z = np.array([1,2,3,4,5])\n",
        "nz = 3\n",
        "Z0 = np.zeros(len(Z) + (len(Z)-1)*(nz))\n",
        "Z0[::nz+1] = Z\n",
        "print(Z0)"
      ]
    },
    {
      "cell_type": "markdown",
      "metadata": {
        "id": "R8vpBslezXsQ"
      },
      "source": [
        "#### 71. Consider an array of dimension (5,5,3), how to mulitply it by an array with dimensions (5,5)? (★★★) \n",
        "(**hint**: array\\[:, :, None\\])"
      ]
    },
    {
      "cell_type": "code",
      "execution_count": 74,
      "metadata": {
        "collapsed": true,
        "colab": {
          "base_uri": "https://localhost:8080/"
        },
        "id": "lYdWocWWzXsR",
        "outputId": "1e7ec71b-57f1-48d3-cd15-19a7ff0fdbf2"
      },
      "outputs": [
        {
          "output_type": "stream",
          "name": "stdout",
          "text": [
            "[[[2. 2. 2.]\n",
            "  [2. 2. 2.]\n",
            "  [2. 2. 2.]\n",
            "  [2. 2. 2.]\n",
            "  [2. 2. 2.]]\n",
            "\n",
            " [[2. 2. 2.]\n",
            "  [2. 2. 2.]\n",
            "  [2. 2. 2.]\n",
            "  [2. 2. 2.]\n",
            "  [2. 2. 2.]]\n",
            "\n",
            " [[2. 2. 2.]\n",
            "  [2. 2. 2.]\n",
            "  [2. 2. 2.]\n",
            "  [2. 2. 2.]\n",
            "  [2. 2. 2.]]\n",
            "\n",
            " [[2. 2. 2.]\n",
            "  [2. 2. 2.]\n",
            "  [2. 2. 2.]\n",
            "  [2. 2. 2.]\n",
            "  [2. 2. 2.]]\n",
            "\n",
            " [[2. 2. 2.]\n",
            "  [2. 2. 2.]\n",
            "  [2. 2. 2.]\n",
            "  [2. 2. 2.]\n",
            "  [2. 2. 2.]]]\n"
          ]
        }
      ],
      "source": [
        "A = np.ones((5,5,3))\n",
        "B = 2*np.ones((5,5))\n",
        "print(A * B[:,:,None])"
      ]
    },
    {
      "cell_type": "markdown",
      "metadata": {
        "id": "tgnEWweZzXsR"
      },
      "source": [
        "#### 72. How to swap two rows of an array? (★★★) \n",
        "(**hint**: array\\[\\[\\]\\] = array\\[\\[\\]\\])"
      ]
    },
    {
      "cell_type": "code",
      "execution_count": 75,
      "metadata": {
        "colab": {
          "base_uri": "https://localhost:8080/"
        },
        "id": "9fbPt97uzXsR",
        "outputId": "8e1556dc-fc3c-49f8-f077-406209987432"
      },
      "outputs": [
        {
          "output_type": "stream",
          "name": "stdout",
          "text": [
            "[[ 5  6  7  8  9]\n",
            " [ 0  1  2  3  4]\n",
            " [10 11 12 13 14]\n",
            " [15 16 17 18 19]\n",
            " [20 21 22 23 24]]\n"
          ]
        }
      ],
      "source": [
        "A = np.arange(25).reshape(5,5)\n",
        "A[[0,1]] = A[[1,0]]\n",
        "print(A)"
      ]
    },
    {
      "cell_type": "markdown",
      "metadata": {
        "id": "e1yzjoXCzXsS"
      },
      "source": [
        "#### 73. Consider a set of 10 triplets describing 10 triangles (with shared vertices), find the set of unique line segments composing all the  triangles (★★★) \n",
        "(**hint**: repeat, np.roll, np.sort, view, np.unique)"
      ]
    },
    {
      "cell_type": "code",
      "execution_count": 76,
      "metadata": {
        "colab": {
          "base_uri": "https://localhost:8080/"
        },
        "id": "WqLNZzCdzXsS",
        "outputId": "38a57ce1-c4ad-4a77-a5e5-e1537e156105"
      },
      "outputs": [
        {
          "output_type": "stream",
          "name": "stdout",
          "text": [
            "[(14, 72) (14, 99) (18, 21) (18, 76) (19, 57) (19, 68) (21, 74) (21, 76)\n",
            " (21, 77) (29, 64) (29, 91) (30, 64) (30, 84) (40, 59) (40, 85) (43, 82)\n",
            " (43, 96) (55, 57) (55, 68) (57, 68) (59, 85) (64, 84) (64, 91) (65, 67)\n",
            " (65, 68) (67, 68) (72, 99) (74, 77) (82, 96)]\n"
          ]
        }
      ],
      "source": [
        "faces = np.random.randint(0,100,(10,3))\n",
        "F = np.roll(faces.repeat(2,axis=1),-1,axis=1)\n",
        "F = F.reshape(len(F)*3,2)\n",
        "F = np.sort(F,axis=1)\n",
        "G = F.view( dtype=[('p0',F.dtype),('p1',F.dtype)] )\n",
        "G = np.unique(G)\n",
        "print(G)"
      ]
    },
    {
      "cell_type": "markdown",
      "metadata": {
        "id": "fHoqWCDWzXsT"
      },
      "source": [
        "#### 74. Given an array C that is a bincount, how to produce an array A such that np.bincount(A) == C? (★★★) \n",
        "(**hint**: np.repeat)"
      ]
    },
    {
      "cell_type": "code",
      "execution_count": 77,
      "metadata": {
        "colab": {
          "base_uri": "https://localhost:8080/"
        },
        "id": "jVKcVjo2zXsT",
        "outputId": "3ea54757-ff38-4676-86e2-3d0797357a7d"
      },
      "outputs": [
        {
          "output_type": "stream",
          "name": "stdout",
          "text": [
            "[1 1 2 3 4 4 6]\n"
          ]
        }
      ],
      "source": [
        "C = np.bincount([1,1,2,3,4,4,6])\n",
        "A = np.repeat(np.arange(len(C)), C)\n",
        "print(A)"
      ]
    },
    {
      "cell_type": "markdown",
      "metadata": {
        "id": "P9C022WgzXsU"
      },
      "source": [
        "#### 75. How to compute averages using a sliding window over an array? (★★★) \n",
        "(**hint**: np.cumsum)"
      ]
    },
    {
      "cell_type": "code",
      "execution_count": 78,
      "metadata": {
        "colab": {
          "base_uri": "https://localhost:8080/"
        },
        "id": "oWks-PHmzXsU",
        "outputId": "82a05188-7388-4312-f019-fd8bc43ac72a"
      },
      "outputs": [
        {
          "output_type": "stream",
          "name": "stdout",
          "text": [
            "[ 1.  2.  3.  4.  5.  6.  7.  8.  9. 10. 11. 12. 13. 14. 15. 16. 17. 18.]\n",
            "[ 1.  2.  3.  4.  5.  6.  7.  8.  9. 10. 11. 12. 13. 14. 15. 16. 17. 18.]\n"
          ]
        }
      ],
      "source": [
        "def moving_average(a, n=3) :\n",
        "    ret = np.cumsum(a, dtype=float)\n",
        "    ret[n:] = ret[n:] - ret[:-n]\n",
        "    return ret[n - 1:] / n\n",
        "Z = np.arange(20)\n",
        "print(moving_average(Z, n=3))\n",
        "\n",
        "from numpy.lib.stride_tricks import sliding_window_view\n",
        "\n",
        "Z = np.arange(20)\n",
        "print(sliding_window_view(Z, window_shape=3).mean(axis=-1))"
      ]
    },
    {
      "cell_type": "markdown",
      "metadata": {
        "id": "GUvIC6CdzXsU"
      },
      "source": [
        "#### 76. Consider a one-dimensional array Z, build a two-dimensional array whose first row is (Z\\[0\\],Z\\[1\\],Z\\[2\\]) and each subsequent row is  shifted by 1 (last row should be (Z\\[-3\\],Z\\[-2\\],Z\\[-1\\]) (★★★) \n",
        "(**hint**: from numpy.lib import stride_tricks)"
      ]
    },
    {
      "cell_type": "code",
      "execution_count": 79,
      "metadata": {
        "colab": {
          "base_uri": "https://localhost:8080/"
        },
        "id": "_fqMknJ2zXsU",
        "outputId": "795bcc35-c549-42c9-ff80-2b8959d1ef97"
      },
      "outputs": [
        {
          "output_type": "stream",
          "name": "stdout",
          "text": [
            "[[0 1 2]\n",
            " [1 2 3]\n",
            " [2 3 4]\n",
            " [3 4 5]\n",
            " [4 5 6]\n",
            " [5 6 7]\n",
            " [6 7 8]\n",
            " [7 8 9]]\n",
            "[[0 1 2]\n",
            " [1 2 3]\n",
            " [2 3 4]\n",
            " [3 4 5]\n",
            " [4 5 6]\n",
            " [5 6 7]\n",
            " [6 7 8]\n",
            " [7 8 9]]\n"
          ]
        }
      ],
      "source": [
        "from numpy.lib import stride_tricks\n",
        "\n",
        "def rolling(a, window):\n",
        "    shape = (a.size - window + 1, window)\n",
        "    strides = (a.strides[0], a.strides[0])\n",
        "    return stride_tricks.as_strided(a, shape=shape, strides=strides)\n",
        "Z = rolling(np.arange(10), 3)\n",
        "print(Z)\n",
        "\n",
        "Z = np.arange(10)\n",
        "print(sliding_window_view(Z, window_shape=3))\n"
      ]
    },
    {
      "cell_type": "markdown",
      "metadata": {
        "id": "5bYv_mHuzXsU"
      },
      "source": [
        "#### 77. How to negate a boolean, or to change the sign of a float inplace? (★★★) \n",
        "(**hint**: np.logical_not, np.negative)"
      ]
    },
    {
      "cell_type": "code",
      "execution_count": 80,
      "metadata": {
        "colab": {
          "base_uri": "https://localhost:8080/"
        },
        "id": "osehG03SzXsV",
        "outputId": "af017007-1464-4222-c29b-9a7b581afe91"
      },
      "outputs": [
        {
          "output_type": "execute_result",
          "data": {
            "text/plain": [
              "array([ 0.77519418, -0.64015327, -0.26595657, -0.45490329, -0.94135851,\n",
              "        0.76957406,  0.92517111, -0.14935348, -0.08715563, -0.749507  ,\n",
              "        0.47220445, -0.66520291, -0.01024168, -0.62053373, -0.77460737,\n",
              "        0.48889559,  0.25151511,  0.7831028 ,  0.42872151,  0.01937578,\n",
              "       -0.96946654, -0.41341866,  0.49179214,  0.32610264, -0.39445474,\n",
              "        0.08478376,  0.22105317,  0.44092722,  0.99291386, -0.02720137,\n",
              "        0.35996404, -0.53053815, -0.35726571,  0.1093998 ,  0.90135349,\n",
              "        0.36258396,  0.11165858, -0.75916097, -0.17415729,  0.19848927,\n",
              "        0.27046389,  0.59706297,  0.94353084, -0.58040459,  0.84706311,\n",
              "       -0.54757532,  0.85084957, -0.37489687,  0.01558809,  0.04796638,\n",
              "        0.65878321, -0.04838406, -0.5690085 , -0.65247873, -0.80619684,\n",
              "       -0.59026686,  0.18062322,  0.4230041 , -0.91235261, -0.07635291,\n",
              "       -0.66578317,  0.44144373,  0.0910854 ,  0.20678759, -0.38101313,\n",
              "       -0.62687904,  0.31968384, -0.8051328 ,  0.6582714 , -0.03607095,\n",
              "        0.36222841, -0.1907119 ,  0.30144984, -0.42317325,  0.53801236,\n",
              "       -0.0684733 ,  0.62583688, -0.66361028,  0.95309148,  0.38711058,\n",
              "        0.15897303,  0.32628036,  0.14409314, -0.86126938,  0.14910511,\n",
              "       -0.89986614,  0.33875463, -0.33882717, -0.55834667, -0.85781291,\n",
              "       -0.29068015,  0.52228924, -0.82711776,  0.07736089, -0.27993337,\n",
              "        0.18727098,  0.7148649 , -0.82625791, -0.3208087 , -0.21168539])"
            ]
          },
          "metadata": {},
          "execution_count": 80
        }
      ],
      "source": [
        "Z = np.random.randint(0,2,100)\n",
        "np.logical_not(Z, out=Z)\n",
        "\n",
        "Z = np.random.uniform(-1.0,1.0,100)\n",
        "np.negative(Z, out=Z)"
      ]
    },
    {
      "cell_type": "markdown",
      "metadata": {
        "id": "PAv6-Dh8zXsV"
      },
      "source": [
        "#### 78. Consider 2 sets of points P0,P1 describing lines (2d) and a point p, how to compute distance from p to each line i  (P0\\[i\\],P1\\[i\\])? (★★★)"
      ]
    },
    {
      "cell_type": "code",
      "execution_count": 82,
      "metadata": {
        "colab": {
          "base_uri": "https://localhost:8080/"
        },
        "id": "MRYz9S-fzXsV",
        "outputId": "f0b8cb3f-19ef-467a-d13b-48d9ec4110e8"
      },
      "outputs": [
        {
          "output_type": "stream",
          "name": "stdout",
          "text": [
            "[ 0.40102414  5.19730757  0.20773835  1.3078102   3.55260768  7.10483885\n",
            "  5.2800109   2.83824583  5.69581682 10.6719086 ]\n"
          ]
        }
      ],
      "source": [
        "def distance(P0, P1, p):\n",
        "    T = P1 - P0\n",
        "    L = (T**2).sum(axis=1)\n",
        "    U = -((P0[:,0]-p[...,0])*T[:,0] + (P0[:,1]-p[...,1])*T[:,1]) / L\n",
        "    U = U.reshape(len(U),1)\n",
        "    D = P0 + U*T - p\n",
        "    return np.sqrt((D**2).sum(axis=1))\n",
        "\n",
        "P0 = np.random.uniform(-10,10,(10,2))\n",
        "P1 = np.random.uniform(-10,10,(10,2))\n",
        "p  = np.random.uniform(-10,10,( 1,2))\n",
        "print(distance(P0, P1, p))"
      ]
    },
    {
      "cell_type": "markdown",
      "metadata": {
        "id": "y12AkmKczXsW"
      },
      "source": [
        "#### 79. Consider 2 sets of points P0,P1 describing lines (2d) and a set of points P, how to compute distance from each point j (P\\[j\\]) to each line i (P0\\[i\\],P1\\[i\\])? (★★★)"
      ]
    },
    {
      "cell_type": "code",
      "execution_count": 83,
      "metadata": {
        "colab": {
          "base_uri": "https://localhost:8080/"
        },
        "id": "Q4gJd-krzXsW",
        "outputId": "868fc163-5772-4a6f-d928-70f9d182110e"
      },
      "outputs": [
        {
          "output_type": "stream",
          "name": "stdout",
          "text": [
            "[[1.63965298e+01 2.23482532e+00 3.93301764e+00 7.53852066e+00\n",
            "  1.36400801e+00 3.82622187e-01 3.80269125e+00 1.27066984e+01\n",
            "  9.37861176e+00 1.59811005e+01]\n",
            " [3.67524271e+00 4.67060852e+00 3.51978976e+00 4.60770594e+00\n",
            "  5.54186595e+00 3.81199407e+00 6.64502583e+00 2.38433931e-02\n",
            "  2.68334626e+00 5.48779522e+00]\n",
            " [1.07549061e+01 5.44907636e+00 4.48663716e-01 1.76198963e+00\n",
            "  7.78074586e+00 1.86912503e+00 9.53248037e+00 7.05420964e+00\n",
            "  9.08936825e+00 7.01104700e+00]\n",
            " [1.02767350e-01 2.40722096e+00 1.15953574e+01 1.25193670e+01\n",
            "  2.18966977e+00 1.15198080e+01 1.27684392e+00 3.58572676e+00\n",
            "  4.42578823e+00 1.09629766e+01]\n",
            " [3.70317334e+00 1.32315460e+01 4.27032284e+00 3.69341868e+00\n",
            "  1.40020128e+01 2.40774136e+00 1.49324217e+01 8.43830660e-03\n",
            "  7.67126299e+00 2.49928733e+00]\n",
            " [8.38392916e+00 3.14438678e+00 8.45032187e+00 1.07868539e+01\n",
            "  1.19805939e+00 6.06778372e+00 5.07165976e-01 4.69596192e+00\n",
            "  2.11189054e+00 1.42837470e+01]\n",
            " [1.54474066e+01 1.55715902e+00 3.75460059e+00 7.16248394e+00\n",
            "  1.83614971e+00 1.87312777e-01 4.17186280e+00 1.17566470e+01\n",
            "  8.97329273e+00 1.50464679e+01]\n",
            " [5.56620704e+00 3.21587911e+00 9.81325400e+00 1.16885788e+01\n",
            "  1.85376657e+00 8.15628440e+00 4.11557820e-01 1.87853204e+00\n",
            "  2.99509389e-01 1.34548788e+01]\n",
            " [1.80996307e+01 8.06552687e-01 3.85521693e-01 4.08920977e+00\n",
            "  4.72117035e+00 3.81613595e+00 7.25740924e+00 1.44052366e+01\n",
            "  1.25747360e+01 1.36817858e+01]\n",
            " [6.68715694e+00 6.98814079e+00 2.69715725e-02 1.47289793e+00\n",
            "  8.45597242e+00 4.33815625e-02 9.79436584e+00 2.98447995e+00\n",
            "  6.56054017e+00 4.28057626e+00]]\n"
          ]
        }
      ],
      "source": [
        "P0 = np.random.uniform(-10, 10, (10,2))\n",
        "P1 = np.random.uniform(-10,10,(10,2))\n",
        "p = np.random.uniform(-10, 10, (10,2))\n",
        "print(np.array([distance(P0,P1,p_i) for p_i in p]))"
      ]
    },
    {
      "cell_type": "markdown",
      "metadata": {
        "id": "JfFGUiX6zXsW"
      },
      "source": [
        "#### 80. Consider an arbitrary array, write a function that extract a subpart with a fixed shape and centered on a given element (pad with a `fill` value when necessary) (★★★) \n",
        "(**hint**: minimum, maximum)"
      ]
    },
    {
      "cell_type": "code",
      "execution_count": 84,
      "metadata": {
        "colab": {
          "base_uri": "https://localhost:8080/"
        },
        "id": "q-IQN4SazXsW",
        "outputId": "69abaf97-3c56-486c-9416-1fd70c1eaa98"
      },
      "outputs": [
        {
          "output_type": "stream",
          "name": "stdout",
          "text": [
            "[[2 6 1 4 7 7 6 1 5 0]\n",
            " [1 6 4 2 6 8 2 9 3 6]\n",
            " [1 2 9 7 3 9 4 0 6 6]\n",
            " [5 0 5 9 5 7 6 6 8 2]\n",
            " [0 7 5 7 8 4 0 4 0 9]\n",
            " [6 3 2 9 1 0 8 6 5 1]\n",
            " [7 8 9 6 3 9 8 9 2 3]\n",
            " [2 3 5 0 6 7 9 2 9 9]\n",
            " [3 8 6 7 5 2 5 3 2 2]\n",
            " [3 2 7 3 3 0 9 3 6 8]]\n",
            "[[0 0 0 0 0]\n",
            " [0 2 6 1 4]\n",
            " [0 1 6 4 2]\n",
            " [0 1 2 9 7]\n",
            " [0 5 0 5 9]]\n"
          ]
        },
        {
          "output_type": "stream",
          "name": "stderr",
          "text": [
            "/usr/local/lib/python3.7/dist-packages/ipykernel_launcher.py:23: FutureWarning: Using a non-tuple sequence for multidimensional indexing is deprecated; use `arr[tuple(seq)]` instead of `arr[seq]`. In the future this will be interpreted as an array index, `arr[np.array(seq)]`, which will result either in an error or a different result.\n"
          ]
        }
      ],
      "source": [
        "Z = np.random.randint(0,10,(10,10))\n",
        "shape = (5,5)\n",
        "fill  = 0\n",
        "position = (1,1)\n",
        "\n",
        "R = np.ones(shape, dtype=Z.dtype)*fill\n",
        "P  = np.array(list(position)).astype(int)\n",
        "Rs = np.array(list(R.shape)).astype(int)\n",
        "Zs = np.array(list(Z.shape)).astype(int)\n",
        "\n",
        "R_start = np.zeros((len(shape),)).astype(int)\n",
        "R_stop  = np.array(list(shape)).astype(int)\n",
        "Z_start = (P-Rs//2)\n",
        "Z_stop  = (P+Rs//2)+Rs%2\n",
        "\n",
        "R_start = (R_start - np.minimum(Z_start,0)).tolist()\n",
        "Z_start = (np.maximum(Z_start,0)).tolist()\n",
        "R_stop = np.maximum(R_start, (R_stop - np.maximum(Z_stop-Zs,0))).tolist()\n",
        "Z_stop = (np.minimum(Z_stop,Zs)).tolist()\n",
        "\n",
        "r = [slice(start,stop) for start,stop in zip(R_start,R_stop)]\n",
        "z = [slice(start,stop) for start,stop in zip(Z_start,Z_stop)]\n",
        "R[r] = Z[z]\n",
        "print(Z)\n",
        "print(R)"
      ]
    },
    {
      "cell_type": "markdown",
      "metadata": {
        "id": "BK4CRjMazXsX"
      },
      "source": [
        "#### 81. Consider an array Z = \\[1,2,3,4,5,6,7,8,9,10,11,12,13,14\\], how to generate an array R = \\[\\[1,2,3,4\\], \\[2,3,4,5\\], \\[3,4,5,6\\], ..., \\[11,12,13,14\\]\\]? (★★★) \n",
        "(**hint**: stride\\_tricks.as\\_strided)"
      ]
    },
    {
      "cell_type": "code",
      "execution_count": 85,
      "metadata": {
        "colab": {
          "base_uri": "https://localhost:8080/"
        },
        "id": "gtzdns3bzXsX",
        "outputId": "e52e9c57-4d0d-4dd3-d40f-618a80243d65"
      },
      "outputs": [
        {
          "output_type": "stream",
          "name": "stdout",
          "text": [
            "[[ 1  2  3  4]\n",
            " [ 2  3  4  5]\n",
            " [ 3  4  5  6]\n",
            " [ 4  5  6  7]\n",
            " [ 5  6  7  8]\n",
            " [ 6  7  8  9]\n",
            " [ 7  8  9 10]\n",
            " [ 8  9 10 11]\n",
            " [ 9 10 11 12]\n",
            " [10 11 12 13]\n",
            " [11 12 13 14]]\n",
            "[[ 1  2  3  4]\n",
            " [ 2  3  4  5]\n",
            " [ 3  4  5  6]\n",
            " [ 4  5  6  7]\n",
            " [ 5  6  7  8]\n",
            " [ 6  7  8  9]\n",
            " [ 7  8  9 10]\n",
            " [ 8  9 10 11]\n",
            " [ 9 10 11 12]\n",
            " [10 11 12 13]\n",
            " [11 12 13 14]]\n"
          ]
        }
      ],
      "source": [
        "Z = np.arange(1,15,dtype=np.uint32)\n",
        "R = stride_tricks.as_strided(Z,(11,4),(4,4))\n",
        "print(R)\n",
        "Z = np.arange(1, 15, dtype=np.uint32)\n",
        "print(sliding_window_view(Z, window_shape=4))"
      ]
    },
    {
      "cell_type": "markdown",
      "metadata": {
        "id": "C_ApkAikzXsY"
      },
      "source": [
        "#### 82. Compute a matrix rank (★★★) \n",
        "(**hint**: np.linalg.svd) (suggestion: np.linalg.svd)"
      ]
    },
    {
      "cell_type": "code",
      "execution_count": 86,
      "metadata": {
        "colab": {
          "base_uri": "https://localhost:8080/"
        },
        "id": "5LULRUH1zXsY",
        "outputId": "1aaf1369-dc75-43d5-914a-927ceb53b8d4"
      },
      "outputs": [
        {
          "output_type": "stream",
          "name": "stdout",
          "text": [
            "10\n",
            "10\n"
          ]
        }
      ],
      "source": [
        "Z = np.random.uniform(0,1,(10,10))\n",
        "U, S, V = np.linalg.svd(Z) # Singular Value Decomposition\n",
        "rank = np.sum(S > 1e-10)\n",
        "print(rank)\n",
        "\n",
        "rank = np.linalg.matrix_rank(Z)\n",
        "print(rank)"
      ]
    },
    {
      "cell_type": "markdown",
      "metadata": {
        "id": "rlNozLrHzXsZ"
      },
      "source": [
        "#### 83. How to find the most frequent value in an array? \n",
        "(**hint**: np.bincount, argmax)"
      ]
    },
    {
      "cell_type": "code",
      "execution_count": 87,
      "metadata": {
        "colab": {
          "base_uri": "https://localhost:8080/"
        },
        "id": "tAAXdAegzXsZ",
        "outputId": "bfc10516-0d2c-40ae-ed71-c7d8be034063"
      },
      "outputs": [
        {
          "output_type": "stream",
          "name": "stdout",
          "text": [
            "2\n"
          ]
        }
      ],
      "source": [
        "Z = np.random.randint(0,10,50)\n",
        "print(np.bincount(Z).argmax())"
      ]
    },
    {
      "cell_type": "markdown",
      "metadata": {
        "id": "_5LcQXoDzXsa"
      },
      "source": [
        "#### 84. Extract all the contiguous 3x3 blocks from a random 10x10 matrix (★★★) \n",
        "(**hint**: stride\\_tricks.as\\_strided)"
      ]
    },
    {
      "cell_type": "code",
      "execution_count": 88,
      "metadata": {
        "colab": {
          "base_uri": "https://localhost:8080/"
        },
        "id": "iEdEJjpCzXsb",
        "outputId": "370d2d6c-0697-41ec-8474-168d0481ac2e"
      },
      "outputs": [
        {
          "output_type": "stream",
          "name": "stdout",
          "text": [
            "[[[[3 0 3]\n",
            "   [2 1 3]\n",
            "   [0 4 4]]\n",
            "\n",
            "  [[0 3 4]\n",
            "   [1 3 4]\n",
            "   [4 4 4]]\n",
            "\n",
            "  [[3 4 3]\n",
            "   [3 4 1]\n",
            "   [4 4 0]]\n",
            "\n",
            "  [[4 3 0]\n",
            "   [4 1 0]\n",
            "   [4 0 0]]\n",
            "\n",
            "  [[3 0 0]\n",
            "   [1 0 0]\n",
            "   [0 0 3]]\n",
            "\n",
            "  [[0 0 4]\n",
            "   [0 0 1]\n",
            "   [0 3 0]]\n",
            "\n",
            "  [[0 4 0]\n",
            "   [0 1 4]\n",
            "   [3 0 1]]\n",
            "\n",
            "  [[4 0 2]\n",
            "   [1 4 3]\n",
            "   [0 1 2]]]\n",
            "\n",
            "\n",
            " [[[2 1 3]\n",
            "   [0 4 4]\n",
            "   [0 2 3]]\n",
            "\n",
            "  [[1 3 4]\n",
            "   [4 4 4]\n",
            "   [2 3 2]]\n",
            "\n",
            "  [[3 4 1]\n",
            "   [4 4 0]\n",
            "   [3 2 0]]\n",
            "\n",
            "  [[4 1 0]\n",
            "   [4 0 0]\n",
            "   [2 0 3]]\n",
            "\n",
            "  [[1 0 0]\n",
            "   [0 0 3]\n",
            "   [0 3 4]]\n",
            "\n",
            "  [[0 0 1]\n",
            "   [0 3 0]\n",
            "   [3 4 3]]\n",
            "\n",
            "  [[0 1 4]\n",
            "   [3 0 1]\n",
            "   [4 3 0]]\n",
            "\n",
            "  [[1 4 3]\n",
            "   [0 1 2]\n",
            "   [3 0 0]]]\n",
            "\n",
            "\n",
            " [[[0 4 4]\n",
            "   [0 2 3]\n",
            "   [4 2 4]]\n",
            "\n",
            "  [[4 4 4]\n",
            "   [2 3 2]\n",
            "   [2 4 4]]\n",
            "\n",
            "  [[4 4 0]\n",
            "   [3 2 0]\n",
            "   [4 4 3]]\n",
            "\n",
            "  [[4 0 0]\n",
            "   [2 0 3]\n",
            "   [4 3 4]]\n",
            "\n",
            "  [[0 0 3]\n",
            "   [0 3 4]\n",
            "   [3 4 2]]\n",
            "\n",
            "  [[0 3 0]\n",
            "   [3 4 3]\n",
            "   [4 2 0]]\n",
            "\n",
            "  [[3 0 1]\n",
            "   [4 3 0]\n",
            "   [2 0 3]]\n",
            "\n",
            "  [[0 1 2]\n",
            "   [3 0 0]\n",
            "   [0 3 1]]]\n",
            "\n",
            "\n",
            " [[[0 2 3]\n",
            "   [4 2 4]\n",
            "   [2 0 2]]\n",
            "\n",
            "  [[2 3 2]\n",
            "   [2 4 4]\n",
            "   [0 2 3]]\n",
            "\n",
            "  [[3 2 0]\n",
            "   [4 4 3]\n",
            "   [2 3 3]]\n",
            "\n",
            "  [[2 0 3]\n",
            "   [4 3 4]\n",
            "   [3 3 2]]\n",
            "\n",
            "  [[0 3 4]\n",
            "   [3 4 2]\n",
            "   [3 2 3]]\n",
            "\n",
            "  [[3 4 3]\n",
            "   [4 2 0]\n",
            "   [2 3 0]]\n",
            "\n",
            "  [[4 3 0]\n",
            "   [2 0 3]\n",
            "   [3 0 2]]\n",
            "\n",
            "  [[3 0 0]\n",
            "   [0 3 1]\n",
            "   [0 2 2]]]\n",
            "\n",
            "\n",
            " [[[4 2 4]\n",
            "   [2 0 2]\n",
            "   [1 1 0]]\n",
            "\n",
            "  [[2 4 4]\n",
            "   [0 2 3]\n",
            "   [1 0 0]]\n",
            "\n",
            "  [[4 4 3]\n",
            "   [2 3 3]\n",
            "   [0 0 0]]\n",
            "\n",
            "  [[4 3 4]\n",
            "   [3 3 2]\n",
            "   [0 0 2]]\n",
            "\n",
            "  [[3 4 2]\n",
            "   [3 2 3]\n",
            "   [0 2 2]]\n",
            "\n",
            "  [[4 2 0]\n",
            "   [2 3 0]\n",
            "   [2 2 3]]\n",
            "\n",
            "  [[2 0 3]\n",
            "   [3 0 2]\n",
            "   [2 3 1]]\n",
            "\n",
            "  [[0 3 1]\n",
            "   [0 2 2]\n",
            "   [3 1 2]]]\n",
            "\n",
            "\n",
            " [[[2 0 2]\n",
            "   [1 1 0]\n",
            "   [1 2 3]]\n",
            "\n",
            "  [[0 2 3]\n",
            "   [1 0 0]\n",
            "   [2 3 2]]\n",
            "\n",
            "  [[2 3 3]\n",
            "   [0 0 0]\n",
            "   [3 2 3]]\n",
            "\n",
            "  [[3 3 2]\n",
            "   [0 0 2]\n",
            "   [2 3 0]]\n",
            "\n",
            "  [[3 2 3]\n",
            "   [0 2 2]\n",
            "   [3 0 0]]\n",
            "\n",
            "  [[2 3 0]\n",
            "   [2 2 3]\n",
            "   [0 0 3]]\n",
            "\n",
            "  [[3 0 2]\n",
            "   [2 3 1]\n",
            "   [0 3 2]]\n",
            "\n",
            "  [[0 2 2]\n",
            "   [3 1 2]\n",
            "   [3 2 1]]]\n",
            "\n",
            "\n",
            " [[[1 1 0]\n",
            "   [1 2 3]\n",
            "   [2 4 2]]\n",
            "\n",
            "  [[1 0 0]\n",
            "   [2 3 2]\n",
            "   [4 2 1]]\n",
            "\n",
            "  [[0 0 0]\n",
            "   [3 2 3]\n",
            "   [2 1 1]]\n",
            "\n",
            "  [[0 0 2]\n",
            "   [2 3 0]\n",
            "   [1 1 0]]\n",
            "\n",
            "  [[0 2 2]\n",
            "   [3 0 0]\n",
            "   [1 0 1]]\n",
            "\n",
            "  [[2 2 3]\n",
            "   [0 0 3]\n",
            "   [0 1 3]]\n",
            "\n",
            "  [[2 3 1]\n",
            "   [0 3 2]\n",
            "   [1 3 3]]\n",
            "\n",
            "  [[3 1 2]\n",
            "   [3 2 1]\n",
            "   [3 3 1]]]\n",
            "\n",
            "\n",
            " [[[1 2 3]\n",
            "   [2 4 2]\n",
            "   [4 3 1]]\n",
            "\n",
            "  [[2 3 2]\n",
            "   [4 2 1]\n",
            "   [3 1 1]]\n",
            "\n",
            "  [[3 2 3]\n",
            "   [2 1 1]\n",
            "   [1 1 0]]\n",
            "\n",
            "  [[2 3 0]\n",
            "   [1 1 0]\n",
            "   [1 0 2]]\n",
            "\n",
            "  [[3 0 0]\n",
            "   [1 0 1]\n",
            "   [0 2 4]]\n",
            "\n",
            "  [[0 0 3]\n",
            "   [0 1 3]\n",
            "   [2 4 1]]\n",
            "\n",
            "  [[0 3 2]\n",
            "   [1 3 3]\n",
            "   [4 1 2]]\n",
            "\n",
            "  [[3 2 1]\n",
            "   [3 3 1]\n",
            "   [1 2 2]]]]\n",
            "[[[[4 1 4]\n",
            "   [1 0 2]\n",
            "   [2 0 4]]\n",
            "\n",
            "  [[1 4 4]\n",
            "   [0 2 3]\n",
            "   [0 4 2]]\n",
            "\n",
            "  [[4 4 0]\n",
            "   [2 3 2]\n",
            "   [4 2 3]]\n",
            "\n",
            "  [[4 0 3]\n",
            "   [3 2 3]\n",
            "   [2 3 0]]\n",
            "\n",
            "  [[0 3 0]\n",
            "   [2 3 0]\n",
            "   [3 0 1]]\n",
            "\n",
            "  [[3 0 3]\n",
            "   [3 0 1]\n",
            "   [0 1 3]]\n",
            "\n",
            "  [[0 3 3]\n",
            "   [0 1 3]\n",
            "   [1 3 3]]\n",
            "\n",
            "  [[3 3 2]\n",
            "   [1 3 2]\n",
            "   [3 3 3]]]\n",
            "\n",
            "\n",
            " [[[1 0 2]\n",
            "   [2 0 4]\n",
            "   [1 0 0]]\n",
            "\n",
            "  [[0 2 3]\n",
            "   [0 4 2]\n",
            "   [0 0 4]]\n",
            "\n",
            "  [[2 3 2]\n",
            "   [4 2 3]\n",
            "   [0 4 0]]\n",
            "\n",
            "  [[3 2 3]\n",
            "   [2 3 0]\n",
            "   [4 0 3]]\n",
            "\n",
            "  [[2 3 0]\n",
            "   [3 0 1]\n",
            "   [0 3 2]]\n",
            "\n",
            "  [[3 0 1]\n",
            "   [0 1 3]\n",
            "   [3 2 1]]\n",
            "\n",
            "  [[0 1 3]\n",
            "   [1 3 3]\n",
            "   [2 1 0]]\n",
            "\n",
            "  [[1 3 2]\n",
            "   [3 3 3]\n",
            "   [1 0 0]]]\n",
            "\n",
            "\n",
            " [[[2 0 4]\n",
            "   [1 0 0]\n",
            "   [0 2 4]]\n",
            "\n",
            "  [[0 4 2]\n",
            "   [0 0 4]\n",
            "   [2 4 4]]\n",
            "\n",
            "  [[4 2 3]\n",
            "   [0 4 0]\n",
            "   [4 4 3]]\n",
            "\n",
            "  [[2 3 0]\n",
            "   [4 0 3]\n",
            "   [4 3 3]]\n",
            "\n",
            "  [[3 0 1]\n",
            "   [0 3 2]\n",
            "   [3 3 2]]\n",
            "\n",
            "  [[0 1 3]\n",
            "   [3 2 1]\n",
            "   [3 2 3]]\n",
            "\n",
            "  [[1 3 3]\n",
            "   [2 1 0]\n",
            "   [2 3 2]]\n",
            "\n",
            "  [[3 3 3]\n",
            "   [1 0 0]\n",
            "   [3 2 0]]]\n",
            "\n",
            "\n",
            " [[[1 0 0]\n",
            "   [0 2 4]\n",
            "   [0 2 1]]\n",
            "\n",
            "  [[0 0 4]\n",
            "   [2 4 4]\n",
            "   [2 1 1]]\n",
            "\n",
            "  [[0 4 0]\n",
            "   [4 4 3]\n",
            "   [1 1 3]]\n",
            "\n",
            "  [[4 0 3]\n",
            "   [4 3 3]\n",
            "   [1 3 0]]\n",
            "\n",
            "  [[0 3 2]\n",
            "   [3 3 2]\n",
            "   [3 0 2]]\n",
            "\n",
            "  [[3 2 1]\n",
            "   [3 2 3]\n",
            "   [0 2 3]]\n",
            "\n",
            "  [[2 1 0]\n",
            "   [2 3 2]\n",
            "   [2 3 2]]\n",
            "\n",
            "  [[1 0 0]\n",
            "   [3 2 0]\n",
            "   [3 2 3]]]\n",
            "\n",
            "\n",
            " [[[0 2 4]\n",
            "   [0 2 1]\n",
            "   [0 0 0]]\n",
            "\n",
            "  [[2 4 4]\n",
            "   [2 1 1]\n",
            "   [0 0 3]]\n",
            "\n",
            "  [[4 4 3]\n",
            "   [1 1 3]\n",
            "   [0 3 0]]\n",
            "\n",
            "  [[4 3 3]\n",
            "   [1 3 0]\n",
            "   [3 0 3]]\n",
            "\n",
            "  [[3 3 2]\n",
            "   [3 0 2]\n",
            "   [0 3 3]]\n",
            "\n",
            "  [[3 2 3]\n",
            "   [0 2 3]\n",
            "   [3 3 0]]\n",
            "\n",
            "  [[2 3 2]\n",
            "   [2 3 2]\n",
            "   [3 0 4]]\n",
            "\n",
            "  [[3 2 0]\n",
            "   [3 2 3]\n",
            "   [0 4 3]]]\n",
            "\n",
            "\n",
            " [[[0 2 1]\n",
            "   [0 0 0]\n",
            "   [3 0 1]]\n",
            "\n",
            "  [[2 1 1]\n",
            "   [0 0 3]\n",
            "   [0 1 4]]\n",
            "\n",
            "  [[1 1 3]\n",
            "   [0 3 0]\n",
            "   [1 4 2]]\n",
            "\n",
            "  [[1 3 0]\n",
            "   [3 0 3]\n",
            "   [4 2 1]]\n",
            "\n",
            "  [[3 0 2]\n",
            "   [0 3 3]\n",
            "   [2 1 1]]\n",
            "\n",
            "  [[0 2 3]\n",
            "   [3 3 0]\n",
            "   [1 1 2]]\n",
            "\n",
            "  [[2 3 2]\n",
            "   [3 0 4]\n",
            "   [1 2 2]]\n",
            "\n",
            "  [[3 2 3]\n",
            "   [0 4 3]\n",
            "   [2 2 4]]]\n",
            "\n",
            "\n",
            " [[[0 0 0]\n",
            "   [3 0 1]\n",
            "   [3 1 1]]\n",
            "\n",
            "  [[0 0 3]\n",
            "   [0 1 4]\n",
            "   [1 1 3]]\n",
            "\n",
            "  [[0 3 0]\n",
            "   [1 4 2]\n",
            "   [1 3 3]]\n",
            "\n",
            "  [[3 0 3]\n",
            "   [4 2 1]\n",
            "   [3 3 0]]\n",
            "\n",
            "  [[0 3 3]\n",
            "   [2 1 1]\n",
            "   [3 0 0]]\n",
            "\n",
            "  [[3 3 0]\n",
            "   [1 1 2]\n",
            "   [0 0 3]]\n",
            "\n",
            "  [[3 0 4]\n",
            "   [1 2 2]\n",
            "   [0 3 0]]\n",
            "\n",
            "  [[0 4 3]\n",
            "   [2 2 4]\n",
            "   [3 0 0]]]\n",
            "\n",
            "\n",
            " [[[3 0 1]\n",
            "   [3 1 1]\n",
            "   [2 4 4]]\n",
            "\n",
            "  [[0 1 4]\n",
            "   [1 1 3]\n",
            "   [4 4 4]]\n",
            "\n",
            "  [[1 4 2]\n",
            "   [1 3 3]\n",
            "   [4 4 2]]\n",
            "\n",
            "  [[4 2 1]\n",
            "   [3 3 0]\n",
            "   [4 2 0]]\n",
            "\n",
            "  [[2 1 1]\n",
            "   [3 0 0]\n",
            "   [2 0 2]]\n",
            "\n",
            "  [[1 1 2]\n",
            "   [0 0 3]\n",
            "   [0 2 0]]\n",
            "\n",
            "  [[1 2 2]\n",
            "   [0 3 0]\n",
            "   [2 0 0]]\n",
            "\n",
            "  [[2 2 4]\n",
            "   [3 0 0]\n",
            "   [0 0 4]]]]\n"
          ]
        }
      ],
      "source": [
        "Z = np.random.randint(0,5,(10,10))\n",
        "n = 3\n",
        "i = 1 + (Z.shape[0]-3)\n",
        "j = 1 + (Z.shape[1]-3)\n",
        "C = stride_tricks.as_strided(Z, shape=(i, j, n, n), strides=Z.strides + Z.strides)\n",
        "print(C)\n",
        "Z = np.random.randint(0,5,(10,10))\n",
        "print(sliding_window_view(Z, window_shape=(3, 3)))"
      ]
    },
    {
      "cell_type": "markdown",
      "metadata": {
        "id": "dMq01HNlzXsb"
      },
      "source": [
        "#### 85. Create a 2D array subclass such that Z\\[i,j\\] == Z\\[j,i\\] (★★★) \n",
        "(**hint**: class method)"
      ]
    },
    {
      "cell_type": "code",
      "execution_count": 89,
      "metadata": {
        "colab": {
          "base_uri": "https://localhost:8080/"
        },
        "id": "4ItRsSFczXsc",
        "outputId": "9605b8ee-33bb-45e1-c25a-f8b0052a12ca"
      },
      "outputs": [
        {
          "output_type": "stream",
          "name": "stdout",
          "text": [
            "[[ 0 13  6  6  4]\n",
            " [13  4 11  9  3]\n",
            " [ 6 11  2 42  2]\n",
            " [ 6  9 42  4 11]\n",
            " [ 4  3  2 11  6]]\n"
          ]
        }
      ],
      "source": [
        "class Symetric(np.ndarray):\n",
        "    def __setitem__(self, index, value):\n",
        "        i,j = index\n",
        "        super(Symetric, self).__setitem__((i,j), value)\n",
        "        super(Symetric, self).__setitem__((j,i), value)\n",
        "\n",
        "def symetric(Z):\n",
        "    return np.asarray(Z + Z.T - np.diag(Z.diagonal())).view(Symetric)\n",
        "\n",
        "S = symetric(np.random.randint(0,10,(5,5)))\n",
        "S[2,3] = 42\n",
        "print(S)"
      ]
    },
    {
      "cell_type": "markdown",
      "metadata": {
        "id": "8ouYs-cgzXsd"
      },
      "source": [
        "#### 86. Consider a set of p matrices wich shape (n,n) and a set of p vectors with shape (n,1). How to compute the sum of of the p matrix products at once? (result has shape (n,1)) (★★★) \n",
        "(**hint**: np.tensordot)"
      ]
    },
    {
      "cell_type": "code",
      "execution_count": 90,
      "metadata": {
        "colab": {
          "base_uri": "https://localhost:8080/"
        },
        "id": "FzGLmQT1zXsd",
        "outputId": "3d95ffdb-535a-4c47-e598-68525778e556"
      },
      "outputs": [
        {
          "output_type": "stream",
          "name": "stdout",
          "text": [
            "[[200.]\n",
            " [200.]\n",
            " [200.]\n",
            " [200.]\n",
            " [200.]\n",
            " [200.]\n",
            " [200.]\n",
            " [200.]\n",
            " [200.]\n",
            " [200.]\n",
            " [200.]\n",
            " [200.]\n",
            " [200.]\n",
            " [200.]\n",
            " [200.]\n",
            " [200.]\n",
            " [200.]\n",
            " [200.]\n",
            " [200.]\n",
            " [200.]]\n"
          ]
        }
      ],
      "source": [
        "p, n = 10, 20\n",
        "M = np.ones((p,n,n))\n",
        "V = np.ones((p,n,1))\n",
        "S = np.tensordot(M, V, axes=[[0, 2], [0, 1]])\n",
        "print(S)"
      ]
    },
    {
      "cell_type": "markdown",
      "metadata": {
        "id": "R4AycW4dzXsd"
      },
      "source": [
        "#### 87. Consider a 16x16 array, how to get the block-sum (block size is 4x4)? (★★★) \n",
        "(**hint**: np.add.reduceat)"
      ]
    },
    {
      "cell_type": "code",
      "execution_count": 91,
      "metadata": {
        "colab": {
          "base_uri": "https://localhost:8080/"
        },
        "id": "pD1eFkQJzXse",
        "outputId": "15bc1ea3-ea8d-48bb-8da3-35282d723a04"
      },
      "outputs": [
        {
          "output_type": "stream",
          "name": "stdout",
          "text": [
            "[[16. 16. 16. 16.]\n",
            " [16. 16. 16. 16.]\n",
            " [16. 16. 16. 16.]\n",
            " [16. 16. 16. 16.]]\n",
            "[[16. 16. 16. 16.]\n",
            " [16. 16. 16. 16.]\n",
            " [16. 16. 16. 16.]\n",
            " [16. 16. 16. 16.]]\n"
          ]
        }
      ],
      "source": [
        "Z = np.ones((16,16))\n",
        "k = 4\n",
        "S = np.add.reduceat(np.add.reduceat(Z, np.arange(0, Z.shape[0], k), axis=0),\n",
        "                                       np.arange(0, Z.shape[1], k), axis=1)\n",
        "print(S)\n",
        "Z = np.ones((16,16))\n",
        "k = 4\n",
        "windows = np.lib.stride_tricks.sliding_window_view(Z, (k, k))\n",
        "S = windows[::k, ::k, ...].sum(axis=(-2, -1))\n",
        "Z = np.ones((16, 16))\n",
        "k = 4\n",
        "print(sliding_window_view(Z, window_shape=(k, k))[::k, ::k].sum(axis=(-2, -1)))"
      ]
    },
    {
      "cell_type": "markdown",
      "metadata": {
        "id": "PqKNOlCozXse"
      },
      "source": [
        "#### 88. How to implement the Game of Life using numpy arrays? (★★★)"
      ]
    },
    {
      "cell_type": "code",
      "execution_count": 92,
      "metadata": {
        "colab": {
          "base_uri": "https://localhost:8080/"
        },
        "id": "1Q8bDmTIzXse",
        "outputId": "48205683-94c7-44c0-fad1-ef0086ceac1f"
      },
      "outputs": [
        {
          "output_type": "stream",
          "name": "stdout",
          "text": [
            "[[0 0 0 ... 0 0 0]\n",
            " [0 0 0 ... 0 0 0]\n",
            " [0 0 0 ... 0 0 0]\n",
            " ...\n",
            " [0 0 0 ... 0 0 0]\n",
            " [0 0 0 ... 0 0 0]\n",
            " [0 0 0 ... 0 0 0]]\n"
          ]
        }
      ],
      "source": [
        "def iterate(Z):\n",
        "    \n",
        "    N = (Z[0:-2,0:-2] + Z[0:-2,1:-1] + Z[0:-2,2:] +\n",
        "         Z[1:-1,0:-2]                + Z[1:-1,2:] +\n",
        "         Z[2:  ,0:-2] + Z[2:  ,1:-1] + Z[2:  ,2:])\n",
        "\n",
        "    \n",
        "    birth = (N==3) & (Z[1:-1,1:-1]==0)\n",
        "    survive = ((N==2) | (N==3)) & (Z[1:-1,1:-1]==1)\n",
        "    Z[...] = 0\n",
        "    Z[1:-1,1:-1][birth | survive] = 1\n",
        "    return Z\n",
        "\n",
        "Z = np.random.randint(0,2,(50,50))\n",
        "for i in range(100): Z = iterate(Z)\n",
        "print(Z)"
      ]
    },
    {
      "cell_type": "markdown",
      "metadata": {
        "id": "HFnWPIONzXsf"
      },
      "source": [
        "#### 89. How to get the n largest values of an array (★★★) \n",
        "(**hint**: np.argsort | np.argpartition)"
      ]
    },
    {
      "cell_type": "code",
      "execution_count": 93,
      "metadata": {
        "colab": {
          "base_uri": "https://localhost:8080/"
        },
        "id": "gffGoR-NzXsf",
        "outputId": "ae02640b-95b7-4426-cd5c-d84105d73e55"
      },
      "outputs": [
        {
          "output_type": "stream",
          "name": "stdout",
          "text": [
            "[9995 9996 9997 9998 9999]\n",
            "[9996 9999 9995 9998 9997]\n"
          ]
        }
      ],
      "source": [
        " Z = np.arange(10000)\n",
        "np.random.shuffle(Z)\n",
        "n = 5\n",
        "\n",
        "\n",
        "print (Z[np.argsort(Z)[-n:]])\n",
        "\n",
        "\n",
        "print (Z[np.argpartition(-Z,n)[:n]])"
      ]
    },
    {
      "cell_type": "markdown",
      "metadata": {
        "id": "oIGDbwFJzXsf"
      },
      "source": [
        "#### 90. Given an arbitrary number of vectors, build the cartesian product (every combinations of every item) (★★★) \n",
        "(**hint**: np.indices)"
      ]
    },
    {
      "cell_type": "code",
      "execution_count": 94,
      "metadata": {
        "scrolled": true,
        "colab": {
          "base_uri": "https://localhost:8080/"
        },
        "id": "ciMnVv0SzXsf",
        "outputId": "2dffef7f-f1ca-4ee7-dbcf-6c0384c62077"
      },
      "outputs": [
        {
          "output_type": "stream",
          "name": "stdout",
          "text": [
            "[[1 4 6]\n",
            " [1 4 7]\n",
            " [1 5 6]\n",
            " [1 5 7]\n",
            " [2 4 6]\n",
            " [2 4 7]\n",
            " [2 5 6]\n",
            " [2 5 7]\n",
            " [3 4 6]\n",
            " [3 4 7]\n",
            " [3 5 6]\n",
            " [3 5 7]]\n"
          ]
        }
      ],
      "source": [
        "def cartesian(arrays):\n",
        "    arrays = [np.asarray(a) for a in arrays]\n",
        "    shape = (len(x) for x in arrays)\n",
        "\n",
        "    ix = np.indices(shape, dtype=int)\n",
        "    ix = ix.reshape(len(arrays), -1).T\n",
        "\n",
        "    for n, arr in enumerate(arrays):\n",
        "        ix[:, n] = arrays[n][ix[:, n]]\n",
        "\n",
        "    return ix\n",
        "\n",
        "print (cartesian(([1, 2, 3], [4, 5], [6, 7])))"
      ]
    },
    {
      "cell_type": "markdown",
      "metadata": {
        "id": "I5jw3cKwzXsg"
      },
      "source": [
        "#### 91. How to create a record array from a regular array? (★★★) \n",
        "(**hint**: np.core.records.fromarrays)"
      ]
    },
    {
      "cell_type": "code",
      "execution_count": 95,
      "metadata": {
        "colab": {
          "base_uri": "https://localhost:8080/"
        },
        "id": "HKoCA9iOzXsg",
        "outputId": "23c591b5-a176-4065-eecf-2396f6f17114"
      },
      "outputs": [
        {
          "output_type": "stream",
          "name": "stdout",
          "text": [
            "[(b'Hello', 2.5, 3) (b'World', 3.6, 2)]\n"
          ]
        }
      ],
      "source": [
        "Z = np.array([(\"Hello\", 2.5, 3),\n",
        "              (\"World\", 3.6, 2)])\n",
        "R = np.core.records.fromarrays(Z.T,\n",
        "                               names='col1, col2, col3',\n",
        "                               formats = 'S8, f8, i8')\n",
        "print(R)"
      ]
    },
    {
      "cell_type": "markdown",
      "metadata": {
        "id": "J9b05K1tzXsg"
      },
      "source": [
        "#### 92. Consider a large vector Z, compute Z to the power of 3 using 3 different methods (★★★) \n",
        "(**hint**: np.power, \\*, np.einsum)"
      ]
    },
    {
      "cell_type": "code",
      "execution_count": 97,
      "metadata": {
        "colab": {
          "base_uri": "https://localhost:8080/"
        },
        "id": "NM0YRawYzXsg",
        "outputId": "c61fdc81-7473-462a-a9fe-b07e0290a23f"
      },
      "outputs": [
        {
          "output_type": "stream",
          "name": "stdout",
          "text": [
            "4 s ± 623 ms per loop (mean ± std. dev. of 7 runs, 1 loop each)\n",
            "218 ms ± 15.5 ms per loop (mean ± std. dev. of 7 runs, 10 loops each)\n",
            "164 ms ± 2.07 ms per loop (mean ± std. dev. of 7 runs, 10 loops each)\n"
          ]
        }
      ],
      "source": [
        "x = np.random.rand(int(5e7))\n",
        "\n",
        "%timeit np.power(x,3)\n",
        "%timeit x*x*x\n",
        "%timeit np.einsum('i,i,i->i',x,x,x)"
      ]
    },
    {
      "cell_type": "markdown",
      "metadata": {
        "id": "ruoh8fvRzXsg"
      },
      "source": [
        "#### 93. Consider two arrays A and B of shape (8,3) and (2,2). How to find rows of A that contain elements of each row of B regardless of the order of the elements in B? (★★★) \n",
        "(**hint**: np.where)"
      ]
    },
    {
      "cell_type": "code",
      "execution_count": 99,
      "metadata": {
        "colab": {
          "base_uri": "https://localhost:8080/"
        },
        "id": "32E3jKwrzXsh",
        "outputId": "fc2fad32-07ad-4cee-9196-c13bc4f0df47"
      },
      "outputs": [
        {
          "output_type": "stream",
          "name": "stdout",
          "text": [
            "[0 2 3 4 7]\n"
          ]
        }
      ],
      "source": [
        "A = np.random.randint(0,5,(8,3))\n",
        "B = np.random.randint(0,5,(2,2))\n",
        "\n",
        "C = (A[..., np.newaxis, np.newaxis] == B)\n",
        "rows = np.where(C.any((3,1)).all(1))[0]\n",
        "print(rows)"
      ]
    },
    {
      "cell_type": "markdown",
      "metadata": {
        "id": "6ziQ4ut9zXsh"
      },
      "source": [
        "#### 94. Considering a 10x3 matrix, extract rows with unequal values (e.g. \\[2,2,3\\]) (★★★)"
      ]
    },
    {
      "cell_type": "code",
      "execution_count": 98,
      "metadata": {
        "colab": {
          "base_uri": "https://localhost:8080/"
        },
        "id": "0kya9UlrzXsh",
        "outputId": "f9671fff-83c8-49ca-f0a2-f9e1152490ae"
      },
      "outputs": [
        {
          "output_type": "stream",
          "name": "stdout",
          "text": [
            "[[4 3 4]\n",
            " [0 3 3]\n",
            " [4 1 1]\n",
            " [3 0 1]\n",
            " [2 1 3]\n",
            " [0 1 4]\n",
            " [1 4 1]\n",
            " [1 4 2]\n",
            " [0 2 4]\n",
            " [2 2 2]]\n",
            "[[4 3 4]\n",
            " [0 3 3]\n",
            " [4 1 1]\n",
            " [3 0 1]\n",
            " [2 1 3]\n",
            " [0 1 4]\n",
            " [1 4 1]\n",
            " [1 4 2]\n",
            " [0 2 4]]\n",
            "[[4 3 4]\n",
            " [0 3 3]\n",
            " [4 1 1]\n",
            " [3 0 1]\n",
            " [2 1 3]\n",
            " [0 1 4]\n",
            " [1 4 1]\n",
            " [1 4 2]\n",
            " [0 2 4]]\n"
          ]
        }
      ],
      "source": [
        "Z = np.random.randint(0,5,(10,3))\n",
        "print(Z)\n",
        "\n",
        "E = np.all(Z[:,1:] == Z[:,:-1], axis=1)\n",
        "U = Z[~E]\n",
        "print(U)\n",
        "\n",
        "U = Z[Z.max(axis=1) != Z.min(axis=1),:]\n",
        "print(U)"
      ]
    },
    {
      "cell_type": "markdown",
      "metadata": {
        "id": "FEEB3GxHzXsh"
      },
      "source": [
        "#### 95. Convert a vector of ints into a matrix binary representation (★★★) \n",
        "(**hint**: np.unpackbits)"
      ]
    },
    {
      "cell_type": "code",
      "execution_count": 100,
      "metadata": {
        "colab": {
          "base_uri": "https://localhost:8080/"
        },
        "id": "rYa5rnCQzXsi",
        "outputId": "343d701c-048c-47e4-9c8c-f619003501c6"
      },
      "outputs": [
        {
          "output_type": "stream",
          "name": "stdout",
          "text": [
            "[[0 0 0 0 0 0 0 0]\n",
            " [0 0 0 0 0 0 0 1]\n",
            " [0 0 0 0 0 0 1 0]\n",
            " [0 0 0 0 0 0 1 1]\n",
            " [0 0 0 0 1 1 1 1]\n",
            " [0 0 0 1 0 0 0 0]\n",
            " [0 0 1 0 0 0 0 0]\n",
            " [0 1 0 0 0 0 0 0]\n",
            " [1 0 0 0 0 0 0 0]]\n",
            "[[0 0 0 0 0 0 0 0]\n",
            " [0 0 0 0 0 0 0 1]\n",
            " [0 0 0 0 0 0 1 0]\n",
            " [0 0 0 0 0 0 1 1]\n",
            " [0 0 0 0 1 1 1 1]\n",
            " [0 0 0 1 0 0 0 0]\n",
            " [0 0 1 0 0 0 0 0]\n",
            " [0 1 0 0 0 0 0 0]\n",
            " [1 0 0 0 0 0 0 0]]\n"
          ]
        }
      ],
      "source": [
        "I = np.array([0, 1, 2, 3, 15, 16, 32, 64, 128])\n",
        "B = ((I.reshape(-1,1) & (2**np.arange(8))) != 0).astype(int)\n",
        "print(B[:,::-1])\n",
        "I = np.array([0, 1, 2, 3, 15, 16, 32, 64, 128], dtype=np.uint8)\n",
        "print(np.unpackbits(I[:, np.newaxis], axis=1))"
      ]
    },
    {
      "cell_type": "markdown",
      "metadata": {
        "id": "YB4HJwZtzXsi"
      },
      "source": [
        "#### 96. Given a two dimensional array, how to extract unique rows? (★★★) \n",
        "(**hint**: np.ascontiguousarray)"
      ]
    },
    {
      "cell_type": "code",
      "execution_count": 101,
      "metadata": {
        "colab": {
          "base_uri": "https://localhost:8080/"
        },
        "id": "DrNTNs38zXsj",
        "outputId": "1652433e-aac8-4264-835e-e1cc9cd8055b"
      },
      "outputs": [
        {
          "output_type": "stream",
          "name": "stdout",
          "text": [
            "[[0 0 0]\n",
            " [0 0 1]\n",
            " [0 1 1]\n",
            " [1 0 0]\n",
            " [1 1 1]]\n",
            "[[0 0 0]\n",
            " [0 0 1]\n",
            " [0 1 1]\n",
            " [1 0 0]\n",
            " [1 1 1]]\n"
          ]
        }
      ],
      "source": [
        "Z = np.random.randint(0,2,(6,3))\n",
        "T = np.ascontiguousarray(Z).view(np.dtype((np.void, Z.dtype.itemsize * Z.shape[1])))\n",
        "_, idx = np.unique(T, return_index=True)\n",
        "uZ = Z[idx]\n",
        "print(uZ)\n",
        "uZ = np.unique(Z, axis=0)\n",
        "print(uZ)"
      ]
    },
    {
      "cell_type": "markdown",
      "metadata": {
        "id": "ae5AiSfkzXsj"
      },
      "source": [
        "#### 97. Considering 2 vectors A & B, write the einsum equivalent of inner, outer, sum, and mul function (★★★) \n",
        "(**hint**: np.einsum)"
      ]
    },
    {
      "cell_type": "code",
      "execution_count": 103,
      "metadata": {
        "colab": {
          "base_uri": "https://localhost:8080/"
        },
        "id": "3ONzvFFDzXsj",
        "outputId": "d6a1585e-2f7c-41a6-e473-682e3cfd719b"
      },
      "outputs": [
        {
          "output_type": "execute_result",
          "data": {
            "text/plain": [
              "array([[0.04394572, 0.01733373, 0.02430779, 0.02631831, 0.01340722,\n",
              "        0.02773098, 0.04391839, 0.04120066, 0.03981517, 0.0458983 ],\n",
              "       [0.67908857, 0.26785631, 0.37562569, 0.40669412, 0.20718034,\n",
              "        0.42852393, 0.67866618, 0.63666944, 0.61525965, 0.70926155],\n",
              "       [0.03620708, 0.01428134, 0.0200273 , 0.02168378, 0.01104627,\n",
              "        0.02284768, 0.03618456, 0.03394541, 0.03280391, 0.03781582],\n",
              "       [0.55218179, 0.21779984, 0.30542948, 0.33069189, 0.16846287,\n",
              "        0.34844219, 0.55183833, 0.51768986, 0.50028109, 0.5767161 ],\n",
              "       [0.73119635, 0.28840944, 0.40444818, 0.43790054, 0.22307769,\n",
              "        0.46140539, 0.73074154, 0.68552231, 0.6624697 , 0.76368455],\n",
              "       [0.67318665, 0.26552839, 0.37236115, 0.40315956, 0.20537975,\n",
              "        0.42479965, 0.67276792, 0.63113618, 0.60991246, 0.7030974 ],\n",
              "       [0.47566423, 0.18761863, 0.26310516, 0.28486688, 0.14511844,\n",
              "        0.30015746, 0.47536836, 0.44595196, 0.43095558, 0.49679874],\n",
              "       [0.51660544, 0.20376728, 0.28575105, 0.30938584, 0.15760903,\n",
              "        0.32599251, 0.5162841 , 0.48433578, 0.46804863, 0.53955903],\n",
              "       [0.74021715, 0.29196757, 0.40943787, 0.44330294, 0.22582981,\n",
              "        0.46709777, 0.73975673, 0.69397963, 0.67064263, 0.77310617],\n",
              "       [0.19027319, 0.07505041, 0.10524621, 0.11395124, 0.05804966,\n",
              "        0.12006771, 0.19015483, 0.17838781, 0.17238902, 0.19872732]])"
            ]
          },
          "metadata": {},
          "execution_count": 103
        }
      ],
      "source": [
        "A = np.random.uniform(0,1,10)\n",
        "B = np.random.uniform(0,1,10)\n",
        "\n",
        "np.einsum('i->', A)       \n",
        "np.einsum('i,i->i', A, B) \n",
        "np.einsum('i,i', A, B)    \n",
        "np.einsum('i,j->ij', A, B)    "
      ]
    },
    {
      "cell_type": "markdown",
      "metadata": {
        "id": "IQLokwmNzXsk"
      },
      "source": [
        "#### 98. Considering a path described by two vectors (X,Y), how to sample it using equidistant samples (★★★)? \n",
        "(**hint**: np.cumsum, np.interp)"
      ]
    },
    {
      "cell_type": "code",
      "execution_count": 104,
      "metadata": {
        "collapsed": true,
        "id": "rEX91nKhzXsk"
      },
      "outputs": [],
      "source": [
        "phi = np.arange(0, 10*np.pi, 0.1)\n",
        "a = 1\n",
        "x = a*phi*np.cos(phi)\n",
        "y = a*phi*np.sin(phi)\n",
        "\n",
        "dr = (np.diff(x)**2 + np.diff(y)**2)**.5 # segment lengths\n",
        "r = np.zeros_like(x)\n",
        "r[1:] = np.cumsum(dr)                # integrate path\n",
        "r_int = np.linspace(0, r.max(), 200) # regular spaced path\n",
        "x_int = np.interp(r_int, r, x)       # integrate path\n",
        "y_int = np.interp(r_int, r, y)"
      ]
    },
    {
      "cell_type": "markdown",
      "metadata": {
        "id": "VMXeqxyPzXsk"
      },
      "source": [
        "#### 99. Given an integer n and a 2D array X, select from X the rows which can be interpreted as draws from a multinomial distribution with n degrees, i.e., the rows which only contain integers and which sum to n. (★★★) \n",
        "(**hint**: np.logical\\_and.reduce, np.mod)"
      ]
    },
    {
      "cell_type": "code",
      "execution_count": 105,
      "metadata": {
        "colab": {
          "base_uri": "https://localhost:8080/"
        },
        "id": "4HPjlNxgzXsl",
        "outputId": "70515ca8-4342-4a5c-a566-4c218eb7751d"
      },
      "outputs": [
        {
          "output_type": "stream",
          "name": "stdout",
          "text": [
            "[[2. 0. 1. 1.]]\n"
          ]
        }
      ],
      "source": [
        "X = np.asarray([[1.0, 0.0, 3.0, 8.0],\n",
        "                [2.0, 0.0, 1.0, 1.0],\n",
        "                [1.5, 2.5, 1.0, 0.0]])\n",
        "n = 4\n",
        "M = np.logical_and.reduce(np.mod(X, 1) == 0, axis=-1)\n",
        "M &= (X.sum(axis=-1) == n)\n",
        "print(X[M])"
      ]
    },
    {
      "cell_type": "markdown",
      "metadata": {
        "id": "KxRM9c-bzXsl"
      },
      "source": [
        "#### 100. Compute bootstrapped 95% confidence intervals for the mean of a 1D array X (i.e., resample the elements of an array with replacement N times, compute the mean of each sample, and then compute percentiles over the means). (★★★) \n",
        "(**hint**: np.percentile)"
      ]
    },
    {
      "cell_type": "code",
      "execution_count": 106,
      "metadata": {
        "colab": {
          "base_uri": "https://localhost:8080/"
        },
        "id": "TuWy9IjvzXsl",
        "outputId": "0076e6b3-e265-44e1-eca4-71b6b4536d40"
      },
      "outputs": [
        {
          "output_type": "stream",
          "name": "stdout",
          "text": [
            "[-0.58001652 -0.14599388]\n"
          ]
        }
      ],
      "source": [
        "X = np.random.randn(100) # random 1D array\n",
        "N = 1000 # number of bootstrap samples\n",
        "idx = np.random.randint(0, X.size, (N, X.size))\n",
        "means = X[idx].mean(axis=1)\n",
        "confint = np.percentile(means, [2.5, 97.5])\n",
        "print(confint)"
      ]
    }
  ],
  "metadata": {
    "kernelspec": {
      "display_name": "Python 3",
      "language": "python",
      "name": "python3"
    },
    "language_info": {
      "codemirror_mode": {
        "name": "ipython",
        "version": 3
      },
      "file_extension": ".py",
      "mimetype": "text/x-python",
      "name": "python",
      "nbconvert_exporter": "python",
      "pygments_lexer": "ipython3",
      "version": "3.8.3"
    },
    "colab": {
      "provenance": []
    }
  },
  "nbformat": 4,
  "nbformat_minor": 0
}